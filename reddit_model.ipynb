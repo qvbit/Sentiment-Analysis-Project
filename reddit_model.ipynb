{
 "cells": [
  {
   "cell_type": "code",
   "execution_count": 1,
   "metadata": {
    "collapsed": true
   },
   "outputs": [],
   "source": [
    "from __future__ import print_function\n",
    "from pyspark import SparkConf, SparkContext\n",
    "from pyspark.sql import SQLContext\n"
   ]
  },
  {
   "cell_type": "code",
   "execution_count": 2,
   "metadata": {
    "collapsed": true
   },
   "outputs": [],
   "source": [
    "conf = SparkConf().setAppName(\"CS143 Project 2B\")\n",
    "conf = conf.setMaster(\"local[*]\")\n",
    "sc   = SparkContext(conf=conf)\n",
    "sqlContext = SQLContext(sc)\n",
    "sc.addPyFile(\"cleantext.py\")\n",
    "#main(sqlContext)\n",
    "\n",
    "comments = sqlContext.read.json(\"comments-minimal.json.bz2\")\n",
    "#comments.write.parquet(\"comments-minimal.json.bz2\")\n",
    "#submissions = sqlContext.read.json(\"submissions.json.bz2\")\n",
    "labels = sqlContext.read.csv(\"labeled_data.csv\")"
   ]
  },
  {
   "cell_type": "markdown",
   "metadata": {},
   "source": [
    "# Task 2\n",
    "\n",
    "1. The functional dependencies on labeled_data.csv is input_id -> (labeldem, labelgop, labeldjt). The input_id is a superkey hence this is in BCNF. \n",
    "\n",
    "2. Comments has the schema (Author(char), Body(text), Can_Gild(boolean), Collapsed(Boolean), Contraversality(int), created_utc(int?), edited(boolean), gilded(int), id(char), is_submitter(boolean), link_id(char), parent_id(char), retrieved_on(int?), score(int), stickied(boolean), subreddit(text). We see there is some redundancy. For example, author determines Can_Gild. However, there don't seem to be many redundancies overall.\n",
    "\n",
    "\n",
    "Write SQL query: SELECT comment, input_id, labeldel, labelgop, labeldjt \n",
    "                 FROM comment C INNER JOIN labeled_data L ON C.id = L.input_id\n",
    "\n"
   ]
  },
  {
   "cell_type": "code",
   "execution_count": null,
   "metadata": {},
   "outputs": [],
   "source": [
    "#labels.printSchema()\n",
    "\n",
    "comments.first()\n",
    "#labels.show()"
   ]
  },
  {
   "cell_type": "code",
   "execution_count": 4,
   "metadata": {
    "collapsed": true
   },
   "outputs": [],
   "source": [
    "comments.createOrReplaceTempView(\"Comments\")\n",
    "labels.createOrReplaceTempView(\"Labels\")\n",
    "\n",
    "X_y = sqlContext.sql(\"SELECT C.body, L._c0, L._c1, L._c2, L._c3 FROM Comments C INNER JOIN Labels L ON C.id = L._c0\")\n",
    "\n",
    "#X_y.show()"
   ]
  },
  {
   "cell_type": "code",
   "execution_count": 5,
   "metadata": {
    "collapsed": true
   },
   "outputs": [],
   "source": [
    "from cleantext import sanitize\n",
    "\n",
    "X_y.createOrReplaceTempView(\"Train\")\n",
    "just_comm = sqlContext.sql(\"SELECT body FROM Train\")\n",
    "#just_comm = just_comm.astype(str)\n"
   ]
  },
  {
   "cell_type": "code",
   "execution_count": 6,
   "metadata": {
    "collapsed": true
   },
   "outputs": [],
   "source": [
    "from pyspark.sql.types import ArrayType\n",
    "from pyspark.sql.types import StringType\n",
    "#add the n_grams\n",
    "from pyspark.sql.functions import udf\n",
    "sanitize_udf = udf(sanitize)\n",
    "sanitized_df = X_y.select(\"body\", \"_c1\", \"_c2\", \"_c3\", sanitize_udf(\"body\").alias(\"n_grams\"))\n",
    "\n",
    "concat_string_arrays_udf = udf(lambda out: (' '.join(out)).split(), ArrayType(StringType(), True))\n",
    "concat_string_arrays_df = sanitized_df.select(\"body\", \"_c1\", \"_c2\", \"_c3\", concat_string_arrays_udf(\"n_grams\").alias(\"n_grams_formatted\"))"
   ]
  },
  {
   "cell_type": "code",
   "execution_count": 7,
   "metadata": {},
   "outputs": [
    {
     "name": "stdout",
     "output_type": "stream",
     "text": [
      "+--------------------------------------------------------------------------------------------------------------------------------------------------------------------------------------------------------+---+---+---+----------------------------------------------------------------------------------------------------------------------------------------------------------------------------------------------------------------------------------------------------------------------------------------------------------------------------------------------------------------------------------------------------------------------------------------------------------------------------------------------------------------------------------------------------------------------------------------------------------------------------------------------------------------------------------------------------------------------------------------------------------------------------------------------------------------------------------------------------------------------------------------------------------------------------------------------------------------------------------------------------------------------------------------------------------------------------------------------------------------------------------------------------------------------------------------------------------------+\n",
      "|body                                                                                                                                                                                                    |_c1|_c2|_c3|n_grams_formatted                                                                                                                                                                                                                                                                                                                                                                                                                                                                                                                                                                                                                                                                                                                                                                                                                                                                                                                                                                                                                                                                                                                                                                                               |\n",
      "+--------------------------------------------------------------------------------------------------------------------------------------------------------------------------------------------------------+---+---+---+----------------------------------------------------------------------------------------------------------------------------------------------------------------------------------------------------------------------------------------------------------------------------------------------------------------------------------------------------------------------------------------------------------------------------------------------------------------------------------------------------------------------------------------------------------------------------------------------------------------------------------------------------------------------------------------------------------------------------------------------------------------------------------------------------------------------------------------------------------------------------------------------------------------------------------------------------------------------------------------------------------------------------------------------------------------------------------------------------------------------------------------------------------------------------------------------------------------+\n",
      "|No it isnt. I call to all fellow proggresives: stop with that bs conspiracy theory and help Trump lead our country. He isnt evil or anything and actually is improving.                                 |0  |0  |1  |[no, it, isn't, ., i, call, to, all, fellow, proggresives, :, stop, with, that, bs, conspiracy, theory, and, help, trump, lead, our, country, ., he, isn't, evil, or, anything, and, actually, is, improving, ., no, it, isn't, i, call, to, all, fellow, proggresives, stop, with, that, bs, conspiracy, theory, and, help, trump, lead, our, country, he, isn't, evil, or, anything, and, actually, is, improving, no_it, it_isn't, i_call, call_to, to_all, all_fellow, fellow_proggresives, stop_with, with_that, that_bs, bs_conspiracy, conspiracy_theory, theory_and, and_help, help_trump, trump_lead, lead_our, our_country, he_isn't, isn't_evil, evil_or, or_anything, anything_and, and_actually, actually_is, is_improving, no_it_isn't, i_call_to, call_to_all, to_all_fellow, all_fellow_proggresives, stop_with_that, with_that_bs, that_bs_conspiracy, bs_conspiracy_theory, conspiracy_theory_and, theory_and_help, and_help_trump, help_trump_lead, trump_lead_our, lead_our_country, he_isn't_evil, isn't_evil_or, evil_or_anything, or_anything_and, anything_and_actually, and_actually_is, actually_is_improving]                                                                        |\n",
      "|Good move by the President. I don't want to restart the goddamn Cold War just because Hillary snubbed Wisconsin.\n",
      "\n",
      "Edit: hahhaahaha, the downvotes are delicious :) \"wtf, we love the Cold War now\" -you.|-1 |1  |1  |[good, move, by, the, president, ., i, don't, want, to, restart, the, goddamn, cold, war, just, because, hillary, snubbed, wisconsin, ., edit, :, hahhaahaha, ,, the, downvotes, are, delicious, :, :, wtf, ,, we, love, the, cold, war, now, -you, ., good, move, by, the, president, i, don't, want, to, restart, the, goddamn, cold, war, just, because, hillary, snubbed, wisconsin, edit, hahhaahaha, the, downvotes, are, delicious, wtf, we, love, the, cold, war, now, -you, good_move, move_by, by_the, the_president, i_don't, don't_want, want_to, to_restart, restart_the, the_goddamn, goddamn_cold, cold_war, war_just, just_because, because_hillary, hillary_snubbed, snubbed_wisconsin, the_downvotes, downvotes_are, are_delicious, we_love, love_the, the_cold, cold_war, war_now, now_-you, good_move_by, move_by_the, by_the_president, i_don't_want, don't_want_to, want_to_restart, to_restart_the, restart_the_goddamn, the_goddamn_cold, goddamn_cold_war, cold_war_just, war_just_because, just_because_hillary, because_hillary_snubbed, hillary_snubbed_wisconsin, the_downvotes_are, downvotes_are_delicious, we_love_the, love_the_cold, the_cold_war, cold_war_now, war_now_-you]|\n",
      "+--------------------------------------------------------------------------------------------------------------------------------------------------------------------------------------------------------+---+---+---+----------------------------------------------------------------------------------------------------------------------------------------------------------------------------------------------------------------------------------------------------------------------------------------------------------------------------------------------------------------------------------------------------------------------------------------------------------------------------------------------------------------------------------------------------------------------------------------------------------------------------------------------------------------------------------------------------------------------------------------------------------------------------------------------------------------------------------------------------------------------------------------------------------------------------------------------------------------------------------------------------------------------------------------------------------------------------------------------------------------------------------------------------------------------------------------------------------------+\n",
      "\n"
     ]
    }
   ],
   "source": [
    "concat_string_arrays_df.limit(2).show(2, False)\n",
    "#sanitized_df.show(2, False)"
   ]
  },
  {
   "cell_type": "code",
   "execution_count": 8,
   "metadata": {
    "collapsed": true
   },
   "outputs": [],
   "source": [
    "#count vectorizer\n",
    "from pyspark.ml.feature import CountVectorizer\n",
    "cv = CountVectorizer(inputCol=\"n_grams_formatted\", outputCol=\"features\", minDF = 5, binary=True)\n",
    "\n",
    "model = cv.fit(concat_string_arrays_df)\n",
    "\n",
    "#result = model.transform(comments_df)\n",
    "#result.show(truncate=False)"
   ]
  },
  {
   "cell_type": "code",
   "execution_count": 9,
   "metadata": {},
   "outputs": [
    {
     "name": "stdout",
     "output_type": "stream",
     "text": [
      "+-------------------------------------------------------------------------------------------------------------------------------------------------------------------------------------------------------------------------------------------------------------------------------------------------------------------------------------------------------------------------------------------------------------------------------------+---+---+---+----------------------------------------------------------------------------------------------------------------------------------------------------------------------------------------------------------------------------------------------------------------------------------------------------------------------------------------------------------------------------------------------------------------------------------------------------------------------------------------------------------------------------------------------------------------------------------------------------------------------------------------------------------------------------------------------------------------------------------------------------------------------------------------------------------------------------------------------------------------------------------------------------------------------------------------------------------------------------------------------------------------------------------------------------------------------------------------------------------------------------------------------------------------------------------------------------------------------------------------------------------------------------------------------------------------------------------------------------------------------------------------------------------------------------------------------------------------------------------------------------------------------------------------------------------------------------------------------------------------------------------------------------------------------------------------------------------------------------------------------------------------------------------------------------------------------------------------------------------------------------------------------------------------------------------------------------------------------------------------------------------------------------------------------------------------------------------------------------------------------------------------------------------------------------------------------------------------------------------------------------------------------------------------------------------------------------------------------------------------------------------------------------------------------------------------------------------------------------------------------------------------------------------------------------------------------------------------------------------------------------------------------------------------------------------------------------------------------------------------------------------------------------------------------------------------------------------------------------------------------------------------------------------------------------------------------------------------------------------------------------------+---------------------------------------------------------------------------------------------------------------------------------------------------------------------------------------------------------------------------------------------------------------------------------------------------------------------------------------------------------------------------------------------------------------------------------------------------------------------------------------------------------------------------------------------------------------------------------------+\n",
      "|body                                                                                                                                                                                                                                                                                                                                                                                                                                 |_c1|_c2|_c3|n_grams_formatted                                                                                                                                                                                                                                                                                                                                                                                                                                                                                                                                                                                                                                                                                                                                                                                                                                                                                                                                                                                                                                                                                                                                                                                                                                                                                                                                                                                                                                                                                                                                                                                                                                                                                                                                                                                                                                                                                                                                                                                                                                                                                                                                                                                                                                                                                                                                                                                                                                                                                                                                                                                                                                                                                                                                                                                                                                                                                                                                                                                         |features                                                                                                                                                                                                                                                                                                                                                                                                                                                                                                                                                                               |\n",
      "+-------------------------------------------------------------------------------------------------------------------------------------------------------------------------------------------------------------------------------------------------------------------------------------------------------------------------------------------------------------------------------------------------------------------------------------+---+---+---+----------------------------------------------------------------------------------------------------------------------------------------------------------------------------------------------------------------------------------------------------------------------------------------------------------------------------------------------------------------------------------------------------------------------------------------------------------------------------------------------------------------------------------------------------------------------------------------------------------------------------------------------------------------------------------------------------------------------------------------------------------------------------------------------------------------------------------------------------------------------------------------------------------------------------------------------------------------------------------------------------------------------------------------------------------------------------------------------------------------------------------------------------------------------------------------------------------------------------------------------------------------------------------------------------------------------------------------------------------------------------------------------------------------------------------------------------------------------------------------------------------------------------------------------------------------------------------------------------------------------------------------------------------------------------------------------------------------------------------------------------------------------------------------------------------------------------------------------------------------------------------------------------------------------------------------------------------------------------------------------------------------------------------------------------------------------------------------------------------------------------------------------------------------------------------------------------------------------------------------------------------------------------------------------------------------------------------------------------------------------------------------------------------------------------------------------------------------------------------------------------------------------------------------------------------------------------------------------------------------------------------------------------------------------------------------------------------------------------------------------------------------------------------------------------------------------------------------------------------------------------------------------------------------------------------------------------------------------------------------------------------+---------------------------------------------------------------------------------------------------------------------------------------------------------------------------------------------------------------------------------------------------------------------------------------------------------------------------------------------------------------------------------------------------------------------------------------------------------------------------------------------------------------------------------------------------------------------------------------+\n",
      "|No it isnt. I call to all fellow proggresives: stop with that bs conspiracy theory and help Trump lead our country. He isnt evil or anything and actually is improving.                                                                                                                                                                                                                                                              |0  |0  |1  |[no, it, isn't, ., i, call, to, all, fellow, proggresives, :, stop, with, that, bs, conspiracy, theory, and, help, trump, lead, our, country, ., he, isn't, evil, or, anything, and, actually, is, improving, ., no, it, isn't, i, call, to, all, fellow, proggresives, stop, with, that, bs, conspiracy, theory, and, help, trump, lead, our, country, he, isn't, evil, or, anything, and, actually, is, improving, no_it, it_isn't, i_call, call_to, to_all, all_fellow, fellow_proggresives, stop_with, with_that, that_bs, bs_conspiracy, conspiracy_theory, theory_and, and_help, help_trump, trump_lead, lead_our, our_country, he_isn't, isn't_evil, evil_or, or_anything, anything_and, and_actually, actually_is, is_improving, no_it_isn't, i_call_to, call_to_all, to_all_fellow, all_fellow_proggresives, stop_with_that, with_that_bs, that_bs_conspiracy, bs_conspiracy_theory, conspiracy_theory_and, theory_and_help, and_help_trump, help_trump_lead, trump_lead_our, lead_our_country, he_isn't_evil, isn't_evil_or, evil_or_anything, or_anything_and, anything_and_actually, and_actually_is, actually_is_improving]                                                                                                                                                                                                                                                                                                                                                                                                                                                                                                                                                                                                                                                                                                                                                                                                                                                                                                                                                                                                                                                                                                                                                                                                                                                                                                                                                                                                                                                                                                                                                                                                                                                                                                                                                                                                                                                                  |(3532,[1,2,4,6,7,9,13,14,15,17,27,43,60,64,78,127,171,176,188,242,340,346,437,881,989,1059,1115,1297,1299,2070,2130,2765,3525],[1.0,1.0,1.0,1.0,1.0,1.0,1.0,1.0,1.0,1.0,1.0,1.0,1.0,1.0,1.0,1.0,1.0,1.0,1.0,1.0,1.0,1.0,1.0,1.0,1.0,1.0,1.0,1.0,1.0,1.0,1.0,1.0,1.0])                                                                                                                                                                                                                                                                                                                  |\n",
      "|Good move by the President. I don't want to restart the goddamn Cold War just because Hillary snubbed Wisconsin.\n",
      "\n",
      "Edit: hahhaahaha, the downvotes are delicious :) \"wtf, we love the Cold War now\" -you.                                                                                                                                                                                                                             |-1 |1  |1  |[good, move, by, the, president, ., i, don't, want, to, restart, the, goddamn, cold, war, just, because, hillary, snubbed, wisconsin, ., edit, :, hahhaahaha, ,, the, downvotes, are, delicious, :, :, wtf, ,, we, love, the, cold, war, now, -you, ., good, move, by, the, president, i, don't, want, to, restart, the, goddamn, cold, war, just, because, hillary, snubbed, wisconsin, edit, hahhaahaha, the, downvotes, are, delicious, wtf, we, love, the, cold, war, now, -you, good_move, move_by, by_the, the_president, i_don't, don't_want, want_to, to_restart, restart_the, the_goddamn, goddamn_cold, cold_war, war_just, just_because, because_hillary, hillary_snubbed, snubbed_wisconsin, the_downvotes, downvotes_are, are_delicious, we_love, love_the, the_cold, cold_war, war_now, now_-you, good_move_by, move_by_the, by_the_president, i_don't_want, don't_want_to, want_to_restart, to_restart_the, restart_the_goddamn, the_goddamn_cold, goddamn_cold_war, cold_war_just, war_just_because, just_because_hillary, because_hillary_snubbed, hillary_snubbed_wisconsin, the_downvotes_are, downvotes_are_delicious, we_love_the, love_the_cold, the_cold_war, cold_war_now, war_now_-you]                                                                                                                                                                                                                                                                                                                                                                                                                                                                                                                                                                                                                                                                                                                                                                                                                                                                                                                                                                                                                                                                                                                                                                                                                                                                                                                                                                                                                                                                                                                                                                                                                                                                                                                                                                                          |(3532,[0,1,2,8,14,20,30,36,38,40,56,60,67,68,72,88,103,132,282,314,410,420,435,521,625,851,2195,2661,2886,3010,3177,3477],[1.0,1.0,1.0,1.0,1.0,1.0,1.0,1.0,1.0,1.0,1.0,1.0,1.0,1.0,1.0,1.0,1.0,1.0,1.0,1.0,1.0,1.0,1.0,1.0,1.0,1.0,1.0,1.0,1.0,1.0,1.0,1.0])                                                                                                                                                                                                                                                                                                                           |\n",
      "|Well, that's it.  The democrats don't care about anything other than political posturing, and are willing to shut the country down to ensure children don't get health care.  We REALLY need to ensure we drain the swamp come 2018 and we need to ensure that the democratic party goes the way of the whigs ASAP.                                                                                                                  |-1 |0  |0  |[we'll, ,, that's, it, ., the, democrats, don't, care, about, anything, other, than, political, posturing, ,, and, are, willing, to, shut, the, country, down, to, ensure, children, don't, get, health, care, ., we, really, need, to, ensure, we, drain, the, swamp, come, 2018, and, we, need, to, ensure, that, the, democratic, party, goes, the, way, of, the, whigs, asap, ., we'll, that's, it, the, democrats, don't, care, about, anything, other, than, political, posturing, and, are, willing, to, shut, the, country, down, to, ensure, children, don't, get, health, care, we, really, need, to, ensure, we, drain, the, swamp, come, 2018, and, we, need, to, ensure, that, the, democratic, party, goes, the, way, of, the, whigs, asap, that's_it, the_democrats, democrats_don't, don't_care, care_about, about_anything, anything_other, other_than, than_political, political_posturing, and_are, are_willing, willing_to, to_shut, shut_the, the_country, country_down, down_to, to_ensure, ensure_children, children_don't, don't_get, get_health, health_care, we_really, really_need, need_to, to_ensure, ensure_we, we_drain, drain_the, the_swamp, swamp_come, come_2018, 2018_and, and_we, we_need, need_to, to_ensure, ensure_that, that_the, the_democratic, democratic_party, party_goes, goes_the, the_way, way_of, of_the, the_whigs, whigs_asap, the_democrats_don't, democrats_don't_care, don't_care_about, care_about_anything, about_anything_other, anything_other_than, other_than_political, than_political_posturing, and_are_willing, are_willing_to, willing_to_shut, to_shut_the, shut_the_country, the_country_down, country_down_to, down_to_ensure, to_ensure_children, ensure_children_don't, children_don't_get, don't_get_health, get_health_care, we_really_need, really_need_to, need_to_ensure, to_ensure_we, ensure_we_drain, we_drain_the, drain_the_swamp, the_swamp_come, swamp_come_2018, come_2018_and, 2018_and_we, and_we_need, we_need_to, need_to_ensure, to_ensure_that, ensure_that_the, that_the_democratic, the_democratic_party, democratic_party_goes, party_goes_the, goes_the_way, the_way_of, way_of_the, of_the_whigs, the_whigs_asap]                                                                                                                                                                                                                                                                                                                                                                                                                                                                                                                                                                                                                                                                                                                                                                                          |(3532,[0,1,2,4,5,8,9,13,20,30,37,62,65,68,79,90,102,118,122,127,145,150,152,171,175,183,186,192,196,245,290,395,488,490,596,606,628,662,748,835,843,940,1044,1062,1112,1117,1201,1389,1392,1475,2011,2296,2361,2380,2619,2682,2776,2820,3005],[1.0,1.0,1.0,1.0,1.0,1.0,1.0,1.0,1.0,1.0,1.0,1.0,1.0,1.0,1.0,1.0,1.0,1.0,1.0,1.0,1.0,1.0,1.0,1.0,1.0,1.0,1.0,1.0,1.0,1.0,1.0,1.0,1.0,1.0,1.0,1.0,1.0,1.0,1.0,1.0,1.0,1.0,1.0,1.0,1.0,1.0,1.0,1.0,1.0,1.0,1.0,1.0,1.0,1.0,1.0,1.0,1.0,1.0,1.0])                                                                                           |\n",
      "|&gt;\"I also know things that other people don't know, and so they cannot be sure of the situation,\" Trump responded when asked why he doubts intelligence reports of Russian hacking\n",
      "\n",
      "Ah, so you ***do*** know things about Russian hacking that the U.S. intelligence agencies haven't found out yet.  Interesting.  \n",
      "\n",
      "Well don't let us stop you.  Please - go on . . .                                                            |0  |0  |-1 |[gt;i, also, know, things, that, other, people, don't, know, ,, and, so, they, cannot, be, sure, of, the, situation,, ,, trump, responded, when, asked, why, he, doubts, intelligence, reports, of, russian, hacking, ah, ,, so, you, do, know, things, about, russian, hacking, that, the, u.s, ., intelligence, agencies, haven't, found, out, yet, ., interesting, ., we'll, don't, let, us, stop, you, ., please, -, go, on, ., ., ., gt;i, also, know, things, that, other, people, don't, know, and, so, they, cannot, be, sure, of, the, situation,, trump, responded, when, asked, why, he, doubts, intelligence, reports, of, russian, hacking, ah, so, you, do, know, things, about, russian, hacking, that, the, u.s, intelligence, agencies, haven't, found, out, yet, interesting, we'll, don't, let, us, stop, you, please, -, go, on, gt;i_also, also_know, know_things, things_that, that_other, other_people, people_don't, don't_know, and_so, so_they, they_cannot, cannot_be, be_sure, sure_of, of_the, the_situation,, trump_responded, responded_when, when_asked, asked_why, why_he, he_doubts, doubts_intelligence, intelligence_reports, reports_of, of_russian, russian_hacking, hacking_ah, so_you, you_do, do_know, know_things, things_about, about_russian, russian_hacking, hacking_that, that_the, the_u.s, intelligence_agencies, agencies_haven't, haven't_found, found_out, out_yet, we'll_don't, don't_let, let_us, us_stop, stop_you, please_-, -_go, go_on, on_, gt;i_also_know, also_know_things, know_things_that, things_that_other, that_other_people, other_people_don't, people_don't_know, and_so_they, so_they_cannot, they_cannot_be, cannot_be_sure, be_sure_of, sure_of_the, of_the_situation,, trump_responded_when, responded_when_asked, when_asked_why, asked_why_he, why_he_doubts, he_doubts_intelligence, doubts_intelligence_reports, intelligence_reports_of, reports_of_russian, of_russian_hacking, russian_hacking_ah, so_you_do, you_do_know, do_know_things, know_things_about, things_about_russian, about_russian_hacking, russian_hacking_that, hacking_that_the, that_the_u.s, intelligence_agencies_haven't, agencies_haven't_found, haven't_found_out, found_out_yet, we'll_don't_let, don't_let_us, let_us_stop, us_stop_you, please_-_go, -_go_on, go_on_]                                                                                                                                                                                                                                                                                                                                                                                                                                                                                                                                                                                                                                                                         |(3532,[0,1,4,5,7,8,9,15,16,19,21,22,28,32,37,51,55,61,68,79,96,99,107,115,131,145,151,175,177,222,229,237,242,257,290,309,324,485,553,975,1009,1125,1306,1493,1503,1560,1710,1840,1914,2014,2398,2566,2701,2799,3006,3007,3014,3162,3192],[1.0,1.0,1.0,1.0,1.0,1.0,1.0,1.0,1.0,1.0,1.0,1.0,1.0,1.0,1.0,1.0,1.0,1.0,1.0,1.0,1.0,1.0,1.0,1.0,1.0,1.0,1.0,1.0,1.0,1.0,1.0,1.0,1.0,1.0,1.0,1.0,1.0,1.0,1.0,1.0,1.0,1.0,1.0,1.0,1.0,1.0,1.0,1.0,1.0,1.0,1.0,1.0,1.0,1.0,1.0,1.0,1.0,1.0,1.0])                                                                                               |\n",
      "|&gt;He is asking Americans to trust that his business interests won’t factor into his, or his children’s, decision-making.\n",
      "\n",
      "So, we're supposed to trust Trump, who just paid out $25 million for scamming people.  What strange universe did I wake up in?                                                                                                                                                                           |0  |0  |-1 |[gt;he, is, asking, americans, to, trust, that, his, business, interests, won't, factor, into, his, ,, or, his, childrens, ,, decision-making, ., so, ,, we're, supposed, to, trust, trump, ,, who, just, paid, out, 25, million, for, scamming, people, ., what, strange, universe, did, i, wake, up, in, ?, gt;he, is, asking, americans, to, trust, that, his, business, interests, won't, factor, into, his, or, his, childrens, decision-making, so, we're, supposed, to, trust, trump, who, just, paid, out, 25, million, for, scamming, people, what, strange, universe, did, i, wake, up, in, gt;he_is, is_asking, asking_americans, americans_to, to_trust, trust_that, that_his, his_business, business_interests, interests_won't, won't_factor, factor_into, into_his, or_his, his_childrens, we're_supposed, supposed_to, to_trust, trust_trump, who_just, just_paid, paid_out, out_25, 25_million, million_for, for_scamming, scamming_people, what_strange, strange_universe, universe_did, did_i, i_wake, wake_up, up_in, gt;he_is_asking, is_asking_americans, asking_americans_to, americans_to_trust, to_trust_that, trust_that_his, that_his_business, his_business_interests, business_interests_won't, interests_won't_factor, won't_factor_into, factor_into_his, or_his_childrens, we're_supposed_to, supposed_to_trust, to_trust_trump, who_just_paid, just_paid_out, paid_out_25, out_25_million, 25_million_for, million_for_scamming, for_scamming_people, what_strange_universe, strange_universe_did, universe_did_i, did_i_wake, i_wake_up, wake_up_in]                                                                                                                                                                                                                                                                                                                                                                                                                                                                                                                                                                                                                                                                                                                                                                                                                                                                                                                                                                                                                                                                                                                                                                                                                                                                                                                                                                                                                    |(3532,[1,2,6,7,8,9,10,12,14,25,28,31,32,38,41,45,57,61,64,71,77,114,240,265,366,468,507,530,753,1194,1390,1595,2051,2119,2267,2308],[1.0,1.0,1.0,1.0,1.0,1.0,1.0,1.0,1.0,1.0,1.0,1.0,1.0,1.0,1.0,1.0,1.0,1.0,1.0,1.0,1.0,1.0,1.0,1.0,1.0,1.0,1.0,1.0,1.0,1.0,1.0,1.0,1.0,1.0,1.0,1.0])                                                                                                                                                                                                                                                                                                 |\n",
      "|Donald Trump is basically the guy who hits on a girl then says \"You're ugly anyway, bitch\" when he gets rejected.                                                                                                                                                                                                                                                                                                                    |0  |-1 |-1 |[donald, trump, is, basically, the, guy, who, hits, on, a, girl, then, says, you're, ugly, anyway, ,, bitch, when, he, gets, rejected, ., donald, trump, is, basically, the, guy, who, hits, on, a, girl, then, says, you're, ugly, anyway, bitch, when, he, gets, rejected, donald_trump, trump_is, is_basically, basically_the, the_guy, guy_who, who_hits, hits_on, on_a, a_girl, girl_then, then_says, says_you're, you're_ugly, ugly_anyway, bitch_when, when_he, he_gets, gets_rejected, donald_trump_is, trump_is_basically, is_basically_the, basically_the_guy, the_guy_who, guy_who_hits, who_hits_on, hits_on_a, on_a_girl, a_girl_then, girl_then_says, then_says_you're, says_you're_ugly, you're_ugly_anyway, bitch_when_he, when_he_gets, he_gets_rejected]                                                                                                                                                                                                                                                                                                                                                                                                                                                                                                                                                                                                                                                                                                                                                                                                                                                                                                                                                                                                                                                                                                                                                                                                                                                                                                                                                                                                                                                                                                                                                                                                                                                                                                                                                                                                                                                                                                                                                                                                                                                                                                                                                                                                                                |(3532,[0,1,3,6,7,8,15,19,41,55,104,142,173,195,256,335,378,524,535,802,950,1051,1425,1777,1858,1865,2043,2345,3351],[1.0,1.0,1.0,1.0,1.0,1.0,1.0,1.0,1.0,1.0,1.0,1.0,1.0,1.0,1.0,1.0,1.0,1.0,1.0,1.0,1.0,1.0,1.0,1.0,1.0,1.0,1.0,1.0,1.0])                                                                                                                                                                                                                                                                                                                                             |\n",
      "|Hillary was guilty though. She had the server.  She sent the classified emails. \n",
      "\n",
      "These were not mere allegations. They were objectively true facts. She broke the law.\n",
      "\n",
      "Trump may not rush to judgment, but even he could not deny the overwhelming evidence of hillary's crimes and misdeeds.                                                                                                                                      |-1 |0  |0  |[hillary, was, guilty, though, ., she, had, the, server, ., she, sent, the, classified, emails, ., these, we're, not, mere, allegations, ., they, we're, objectively, true, facts, ., she, broke, the, law, ., trump, may, not, rush, to, judgment, ,, but, even, he, could, not, deny, the, overwhelming, evidence, of, hillary's, crimes, and, misdeeds, ., hillary, was, guilty, though, she, had, the, server, she, sent, the, classified, emails, these, we're, not, mere, allegations, they, we're, objectively, true, facts, she, broke, the, law, trump, may, not, rush, to, judgment, but, even, he, could, not, deny, the, overwhelming, evidence, of, hillary's, crimes, and, misdeeds, hillary_was, was_guilty, guilty_though, she_had, had_the, the_server, she_sent, sent_the, the_classified, classified_emails, these_we're, we're_not, not_mere, mere_allegations, they_we're, we're_objectively, objectively_true, true_facts, she_broke, broke_the, the_law, trump_may, may_not, not_rush, rush_to, to_judgment, but_even, even_he, he_could, could_not, not_deny, deny_the, the_overwhelming, overwhelming_evidence, evidence_of, of_hillary's, hillary's_crimes, crimes_and, and_misdeeds, hillary_was_guilty, was_guilty_though, she_had_the, had_the_server, she_sent_the, sent_the_classified, the_classified_emails, these_we're_not, we're_not_mere, not_mere_allegations, they_we're_objectively, we're_objectively_true, objectively_true_facts, she_broke_the, broke_the_law, trump_may_not, may_not_rush, not_rush_to, rush_to_judgment, but_even_he, even_he_could, he_could_not, could_not_deny, not_deny_the, deny_the_overwhelming, the_overwhelming_evidence, overwhelming_evidence_of, evidence_of_hillary's, of_hillary's_crimes, hillary's_crimes_and, crimes_and_misdeeds]                                                                                                                                                                                                                                                                                                                                                                                                                                                                                                                                                                                                                                                                                                                                                                                                                                                                                                                                                                                                                                                                                                                                                                                         |(3532,[0,1,2,4,5,7,8,15,18,22,23,39,71,72,76,101,117,120,141,189,289,336,375,398,517,656,674,710,773,983,1036,1041,1043,1082,1107,1378,2038,2110,2705,2930,3247,3366],[1.0,1.0,1.0,1.0,1.0,1.0,1.0,1.0,1.0,1.0,1.0,1.0,1.0,1.0,1.0,1.0,1.0,1.0,1.0,1.0,1.0,1.0,1.0,1.0,1.0,1.0,1.0,1.0,1.0,1.0,1.0,1.0,1.0,1.0,1.0,1.0,1.0,1.0,1.0,1.0,1.0,1.0])                                                                                                                                                                                                                                       |\n",
      "|Even by liberal double-standards Franken is not qualified to be a Senator and should resign.\n",
      "\n",
      "Edit: At 1pm PST this post sits at negative 106! BWAHAHahahahaha! You children are the BEST!                                                                                                                                                                                                                                           |-1 |0  |0  |[even, by, liberal, double-standards, franken, is, not, qualified, to, be, a, senator, and, should, resign, ., edit, :, at, 1pm, pst, this, post, sits, at, negative, 106, !, bwahahahahahaha, !, you, children, are, the, best, !, even, by, liberal, double-standards, franken, is, not, qualified, to, be, a, senator, and, should, resign, edit, at, 1pm, pst, this, post, sits, at, negative, 106, bwahahahahahaha, you, children, are, the, best, even_by, by_liberal, liberal_double-standards, double-standards_franken, franken_is, is_not, not_qualified, qualified_to, to_be, be_a, a_senator, senator_and, and_should, should_resign, at_1pm, 1pm_pst, pst_this, this_post, post_sits, sits_at, at_negative, negative_106, you_children, children_are, are_the, the_best, even_by_liberal, by_liberal_double-standards, liberal_double-standards_franken, double-standards_franken_is, franken_is_not, is_not_qualified, not_qualified_to, qualified_to_be, to_be_a, be_a_senator, a_senator_and, senator_and_should, and_should_resign, at_1pm_pst, 1pm_pst_this, pst_this_post, this_post_sits, post_sits_at, sits_at_negative, at_negative_106, you_children_are, children_are_the, are_the_best]                                                                                                                                                                                                                                                                                                                                                                                                                                                                                                                                                                                                                                                                                                                                                                                                                                                                                                                                                                                                                                                                                                                                                                                                                                                                                                                                                                                                                                                                                                                                                                                                                                                                                                                                                                                          |(3532,[0,1,2,3,4,6,11,16,20,21,23,40,46,49,60,76,87,88,167,185,421,423,457,594,748,764,785,1035,1260,1379,1422],[1.0,1.0,1.0,1.0,1.0,1.0,1.0,1.0,1.0,1.0,1.0,1.0,1.0,1.0,1.0,1.0,1.0,1.0,1.0,1.0,1.0,1.0,1.0,1.0,1.0,1.0,1.0,1.0,1.0,1.0,1.0])                                                                                                                                                                                                                                                                                                                                         |\n",
      "|Can you imagine if Trump's White House was a publicly traded organization?  How fast would he have been removed by the share holders/Board because of the disorganization??  Bad PR, terrible advisers, firings of key officials over and over, staying controversial.\n",
      "\n",
      "But hey, there's so much winning folks.  Nothing to see here!  We have the best White House!!\n",
      "/s                                                             |0  |0  |-1 |[can, you, imagine, if, trump's, white, house, was, a, publicly, traded, organization, ?, how, fast, would, he, have, been, removed, by, the, share, holdersboard, because, of, the, disorganization, ?, ?, bad, pr, ,, terrible, advisers, ,, firings, of, key, officials, over, and, over, ,, staying, controversial, ., but, hey, ,, there's, so, much, winning, folks, ., nothing, to, see, here, !, we, have, the, best, white, house, !, !, s, can, you, imagine, if, trump's, white, house, was, a, publicly, traded, organization, how, fast, would, he, have, been, removed, by, the, share, holdersboard, because, of, the, disorganization, bad, pr, terrible, advisers, firings, of, key, officials, over, and, over, staying, controversial, but, hey, there's, so, much, winning, folks, nothing, to, see, here, we, have, the, best, white, house, s, can_you, you_imagine, imagine_if, if_trump's, trump's_white, white_house, house_was, was_a, a_publicly, publicly_traded, traded_organization, how_fast, fast_would, would_he, he_have, have_been, been_removed, removed_by, by_the, the_share, share_holdersboard, holdersboard_because, because_of, of_the, the_disorganization, bad_pr, terrible_advisers, firings_of, of_key, key_officials, officials_over, over_and, and_over, staying_controversial, but_hey, there's_so, so_much, much_winning, winning_folks, nothing_to, to_see, see_here, we_have, have_the, the_best, best_white, white_house, can_you_imagine, you_imagine_if, imagine_if_trump's, if_trump's_white, trump's_white_house, white_house_was, house_was_a, was_a_publicly, a_publicly_traded, publicly_traded_organization, how_fast_would, fast_would_he, would_he_have, he_have_been, have_been_removed, been_removed_by, removed_by_the, by_the_share, the_share_holdersboard, share_holdersboard_because, holdersboard_because_of, because_of_the, of_the_disorganization, firings_of_key, of_key_officials, key_officials_over, officials_over_and, over_and_over, there's_so_much, so_much_winning, much_winning_folks, nothing_to_see, to_see_here, we_have_the, have_the_best, the_best_white, best_white_house]                                                                                                                                                                                                                                                                                                                                                                                                                                                                                                                                                                                                                                                                                                                                                                                                                                    |(3532,[0,1,2,3,4,5,8,15,16,18,24,28,30,31,33,39,40,48,49,53,56,58,79,92,97,106,111,113,133,144,149,153,197,313,325,412,419,423,435,441,516,548,561,603,672,817,913,974,1103,1210,1260,1310,1440,1494,1568,1629,1692,1952,2039,2174,2366,2426,2665],[1.0,1.0,1.0,1.0,1.0,1.0,1.0,1.0,1.0,1.0,1.0,1.0,1.0,1.0,1.0,1.0,1.0,1.0,1.0,1.0,1.0,1.0,1.0,1.0,1.0,1.0,1.0,1.0,1.0,1.0,1.0,1.0,1.0,1.0,1.0,1.0,1.0,1.0,1.0,1.0,1.0,1.0,1.0,1.0,1.0,1.0,1.0,1.0,1.0,1.0,1.0,1.0,1.0,1.0,1.0,1.0,1.0,1.0,1.0,1.0,1.0,1.0,1.0])                                                                      |\n",
      "|So this is the power of Mueller\n",
      "\n",
      "The entire collusion bingo and millions of wasted dollars boil down to Trump ordering Flynn to talk to Russians about ISIS (and to other countries about other things) AFTER the election to set up relationships with the incoming administration.\n",
      "\n",
      "Woah, Drumpf is surely finished. I love Das Kapital now.\n",
      "\n",
      "I guess you try to prosecute him under Logan Act... but good luck with that one, lel.|0  |-1 |-1 |[so, this, is, the, power, of, mueller, the, entire, collusion, bingo, and, millions, of, wasted, dollars, boil, down, to, trump, ordering, flynn, to, talk, to, russians, about, isis, and, to, other, countries, about, other, things, after, the, election, to, set, up, relationships, with, the, incoming, administration, ., woah, ,, drumpf, is, surely, finished, ., i, love, das, kapital, now, ., i, guess, you, try, to, prosecute, him, under, logan, act, ., ., ., but, good, luck, with, that, one, ,, lel, ., so, this, is, the, power, of, mueller, the, entire, collusion, bingo, and, millions, of, wasted, dollars, boil, down, to, trump, ordering, flynn, to, talk, to, russians, about, isis, and, to, other, countries, about, other, things, after, the, election, to, set, up, relationships, with, the, incoming, administration, woah, drumpf, is, surely, finished, i, love, das, kapital, now, i, guess, you, try, to, prosecute, him, under, logan, act, but, good, luck, with, that, one, lel, so_this, this_is, is_the, the_power, power_of, of_mueller, mueller_the, the_entire, entire_collusion, collusion_bingo, bingo_and, and_millions, millions_of, of_wasted, wasted_dollars, dollars_boil, boil_down, down_to, to_trump, trump_ordering, ordering_flynn, flynn_to, to_talk, talk_to, to_russians, russians_about, about_isis, isis_and, and_to, to_other, other_countries, countries_about, about_other, other_things, things_after, after_the, the_election, election_to, to_set, set_up, up_relationships, relationships_with, with_the, the_incoming, incoming_administration, drumpf_is, is_surely, surely_finished, i_love, love_das, das_kapital, kapital_now, i_guess, guess_you, you_try, try_to, to_prosecute, prosecute_him, him_under, under_logan, logan_act, but_good, good_luck, luck_with, with_that, that_one, so_this_is, this_is_the, is_the_power, the_power_of, power_of_mueller, of_mueller_the, mueller_the_entire, the_entire_collusion, entire_collusion_bingo, collusion_bingo_and, bingo_and_millions, and_millions_of, millions_of_wasted, of_wasted_dollars, wasted_dollars_boil, dollars_boil_down, boil_down_to, down_to_trump, to_trump_ordering, trump_ordering_flynn, ordering_flynn_to, flynn_to_talk, to_talk_to, talk_to_russians, to_russians_about, russians_about_isis, about_isis_and, isis_and_to, and_to_other, to_other_countries, other_countries_about, countries_about_other, about_other_things, other_things_after, things_after_the, after_the_election, the_election_to, election_to_set, to_set_up, set_up_relationships, up_relationships_with, relationships_with_the, with_the_incoming, the_incoming_administration, drumpf_is_surely, is_surely_finished, i_love_das, love_das_kapital, das_kapital_now, i_guess_you, guess_you_try, you_try_to, try_to_prosecute, to_prosecute_him, prosecute_him_under, him_under_logan, under_logan_act, but_good_luck, good_luck_with, luck_with_that, with_that_one]|(3532,[0,1,2,4,5,6,7,8,9,11,14,16,17,28,37,39,54,57,67,75,83,103,105,140,145,150,201,211,222,225,226,267,275,282,310,326,332,382,393,416,427,475,501,502,518,713,795,816,882,957,1049,1114,1257,1317,1437,1826,1835,2070,2094,2111,2168,2305,2682,2899,2908,3083,3110,3144,3152,3448],[1.0,1.0,1.0,1.0,1.0,1.0,1.0,1.0,1.0,1.0,1.0,1.0,1.0,1.0,1.0,1.0,1.0,1.0,1.0,1.0,1.0,1.0,1.0,1.0,1.0,1.0,1.0,1.0,1.0,1.0,1.0,1.0,1.0,1.0,1.0,1.0,1.0,1.0,1.0,1.0,1.0,1.0,1.0,1.0,1.0,1.0,1.0,1.0,1.0,1.0,1.0,1.0,1.0,1.0,1.0,1.0,1.0,1.0,1.0,1.0,1.0,1.0,1.0,1.0,1.0,1.0,1.0,1.0,1.0,1.0])       |\n",
      "|How can developing countries require ID to vote but Americans don't need ID to vote? \n",
      "\n",
      "It is incredibly racist to suggest that minority votes aren't intelligent enough to obtain identification. \n",
      "\n",
      "The Democrats reject voter ID laws because illegal immigrants vote in our elections overwhelmingly for Democrats.                                                                                                                |-1 |0  |0  |[how, can, developing, countries, require, i'd, to, vote, but, americans, don't, need, i'd, to, vote, ?, it, is, incredibly, racist, to, suggest, that, minority, votes, aren't, intelligent, enough, to, obtain, identification, ., the, democrats, reject, voter, i'd, laws, because, illegal, immigrants, vote, in, our, elections, overwhelmingly, for, democrats, ., how, can, developing, countries, require, i'd, to, vote, but, americans, don't, need, i'd, to, vote, it, is, incredibly, racist, to, suggest, that, minority, votes, aren't, intelligent, enough, to, obtain, identification, the, democrats, reject, voter, i'd, laws, because, illegal, immigrants, vote, in, our, elections, overwhelmingly, for, democrats, how_can, can_developing, developing_countries, countries_require, require_i'd, i'd_to, to_vote, vote_but, but_americans, americans_don't, don't_need, need_i'd, i'd_to, to_vote, it_is, is_incredibly, incredibly_racist, racist_to, to_suggest, suggest_that, that_minority, minority_votes, votes_aren't, aren't_intelligent, intelligent_enough, enough_to, to_obtain, obtain_identification, the_democrats, democrats_reject, reject_voter, voter_i'd, i'd_laws, laws_because, because_illegal, illegal_immigrants, immigrants_vote, vote_in, in_our, our_elections, elections_overwhelmingly, overwhelmingly_for, for_democrats, how_can_developing, can_developing_countries, developing_countries_require, countries_require_i'd, require_i'd_to, i'd_to_vote, to_vote_but, vote_but_americans, but_americans_don't, americans_don't_need, don't_need_i'd, need_i'd_to, i'd_to_vote, it_is_incredibly, is_incredibly_racist, incredibly_racist_to, racist_to_suggest, to_suggest_that, suggest_that_minority, that_minority_votes, minority_votes_aren't, votes_aren't_intelligent, aren't_intelligent_enough, intelligent_enough_to, enough_to_obtain, to_obtain_identification, the_democrats_reject, democrats_reject_voter, reject_voter_i'd, voter_i'd_laws, i'd_laws_because, laws_because_illegal, because_illegal_immigrants, illegal_immigrants_vote, immigrants_vote_in, vote_in_our, in_our_elections, our_elections_overwhelmingly, elections_overwhelmingly_for, overwhelmingly_for_democrats]                                                                                                                                                                                                                                                                                                                                                                                                                                                                                                                                                                                                                                                                                                                                              |(3532,[0,1,2,6,9,10,12,13,31,39,53,56,58,62,68,78,158,192,240,294,364,372,392,395,438,463,472,504,618,695,724,882,1132,1387,1491,1671,2076,2112,2173,2370,2813,3328],[1.0,1.0,1.0,1.0,1.0,1.0,1.0,1.0,1.0,1.0,1.0,1.0,1.0,1.0,1.0,1.0,1.0,1.0,1.0,1.0,1.0,1.0,1.0,1.0,1.0,1.0,1.0,1.0,1.0,1.0,1.0,1.0,1.0,1.0,1.0,1.0,1.0,1.0,1.0,1.0,1.0,1.0])                                                                                                                                                                                                                                        |\n",
      "|I see you. Can't deny that nullification is a Jeffersonian tradition. Hey man, if you liberals get enough support, enough organization and enough guns... then give it a try. Oh wait... you guys voted away your freedoms in California, New York, Chicago etc. Good luck fam.\n",
      "\n",
      "                                                                                                                                                    |-1 |0  |0  |[i, see, you, ., can't, deny, that, nullification, is, a, jeffersonian, tradition, ., hey, man, ,, if, you, liberals, get, enough, support, ,, enough, organization, and, enough, guns, ., ., ., then, give, it, a, try, ., oh, wait, ., ., ., you, guys, voted, away, your, freedoms, in, california, ,, new, york, ,, chicago, etc, ., good, luck, fam, ., i, see, you, can't, deny, that, nullification, is, a, jeffersonian, tradition, hey, man, if, you, liberals, get, enough, support, enough, organization, and, enough, guns, then, give, it, a, try, oh, wait, you, guys, voted, away, your, freedoms, in, california, new, york, chicago, etc, good, luck, fam, i_see, see_you, can't_deny, deny_that, that_nullification, nullification_is, is_a, a_jeffersonian, jeffersonian_tradition, hey_man, if_you, you_liberals, liberals_get, get_enough, enough_support, enough_organization, organization_and, and_enough, enough_guns, then_give, give_it, it_a, a_try, oh_wait, you_guys, guys_voted, voted_away, away_your, your_freedoms, freedoms_in, in_california, new_york, chicago_etc, good_luck, luck_fam, i_see_you, can't_deny_that, deny_that_nullification, that_nullification_is, nullification_is_a, is_a_jeffersonian, a_jeffersonian_tradition, if_you_liberals, you_liberals_get, liberals_get_enough, get_enough_support, enough_organization_and, organization_and_enough, and_enough_guns, then_give_it, give_it_a, it_a_try, you_guys_voted, guys_voted_away, voted_away_your, away_your_freedoms, your_freedoms_in, freedoms_in_california, good_luck_fam]                                                                                                                                                                                                                                                                                                                                                                                                                                                                                                                                                                                                                                                                                                                                                                                                                                                                                                                                                                                                                                                                                                                                                                                                                                                                                                                                                                                                               |(3532,[1,3,4,6,8,9,10,13,14,16,33,63,65,82,103,104,124,144,162,232,233,234,238,244,266,300,303,308,364,413,427,603,729,747,949,1226,1310,1525,1826,2471,3414],[1.0,1.0,1.0,1.0,1.0,1.0,1.0,1.0,1.0,1.0,1.0,1.0,1.0,1.0,1.0,1.0,1.0,1.0,1.0,1.0,1.0,1.0,1.0,1.0,1.0,1.0,1.0,1.0,1.0,1.0,1.0,1.0,1.0,1.0,1.0,1.0,1.0,1.0,1.0,1.0,1.0])                                                                                                                                                                                                                                                   |\n",
      "|&gt; Sane people do not make such false accusations without any proof and then proceed to call for an investigation to find proof for the false accusations.\n",
      "\n",
      "This is exactly what everyone did with \"Trump has ties to Russia\".                                                                                                                                                                                                     |0  |0  |1  |[gt, ;, sane, people, do, not, make, such, false, accusations, without, any, proof, and, then, proceed, to, call, for, an, investigation, to, find, proof, for, the, false, accusations, ., this, is, exactly, what, everyone, did, with, trump, has, ties, to, russia, ., gt, sane, people, do, not, make, such, false, accusations, without, any, proof, and, then, proceed, to, call, for, an, investigation, to, find, proof, for, the, false, accusations, this, is, exactly, what, everyone, did, with, trump, has, ties, to, russia, sane_people, people_do, do_not, not_make, make_such, such_false, false_accusations, accusations_without, without_any, any_proof, proof_and, and_then, then_proceed, proceed_to, to_call, call_for, for_an, an_investigation, investigation_to, to_find, find_proof, proof_for, for_the, the_false, false_accusations, this_is, is_exactly, exactly_what, what_everyone, everyone_did, did_with, with_trump, trump_has, has_ties, ties_to, to_russia, sane_people_do, people_do_not, do_not_make, not_make_such, make_such_false, such_false_accusations, false_accusations_without, accusations_without_any, without_any_proof, any_proof_and, proof_and_then, and_then_proceed, then_proceed_to, proceed_to_call, to_call_for, call_for_an, for_an_investigation, an_investigation_to, investigation_to_find, to_find_proof, find_proof_for, proof_for_the, for_the_false, the_false_accusations, this_is_exactly, is_exactly_what, exactly_what_everyone, what_everyone_did, everyone_did_with, did_with_trump, with_trump_has, trump_has_ties, has_ties_to, ties_to_russia]                                                                                                                                                                                                                                                                                                                                                                                                                                                                                                                                                                                                                                                                                                                                                                                                                                                                                                                                                                                                                                                                                                                                                                                                                                                                                                                                                                                |(3532,[0,1,2,4,6,7,11,12,17,23,32,44,45,50,51,77,81,91,98,104,112,125,140,168,181,252,254,346,365,387,512,526,533,765,767,976,1227,1637,1681,1778,2030,2591,2723,3053,3213],[1.0,1.0,1.0,1.0,1.0,1.0,1.0,1.0,1.0,1.0,1.0,1.0,1.0,1.0,1.0,1.0,1.0,1.0,1.0,1.0,1.0,1.0,1.0,1.0,1.0,1.0,1.0,1.0,1.0,1.0,1.0,1.0,1.0,1.0,1.0,1.0,1.0,1.0,1.0,1.0,1.0,1.0,1.0,1.0,1.0])                                                                                                                                                                                                                     |\n",
      "|Oh man we just need liberals to tell us what's good for us\n",
      "\n",
      "Please liberals tell us more \n",
      "\n",
      "You guys care so much                                                                                                                                                                                                                                                                                                                     |-1 |0  |0  |[oh, man, we, just, need, liberals, to, tell, us, what's, good, for, us, please, liberals, tell, us, more, you, guys, care, so, much, oh, man, we, just, need, liberals, to, tell, us, what's, good, for, us, please, liberals, tell, us, more, you, guys, care, so, much, oh_man, man_we, we_just, just_need, need_liberals, liberals_to, to_tell, tell_us, us_what's, what's_good, good_for, for_us, us_please, please_liberals, liberals_tell, tell_us, us_more, more_you, you_guys, guys_care, care_so, so_much, oh_man_we, man_we_just, we_just_need, just_need_liberals, need_liberals_to, liberals_to_tell, to_tell_us, tell_us_what's, us_what's_good, what's_good_for, good_for_us, for_us_please, us_please_liberals, please_liberals_tell, liberals_tell_us, tell_us_more, us_more_you, more_you_guys, you_guys_care, guys_care_so, care_so_much]                                                                                                                                                                                                                                                                                                                                                                                                                                                                                                                                                                                                                                                                                                                                                                                                                                                                                                                                                                                                                                                                                                                                                                                                                                                                                                                                                                                                                                                                                                                                                                                                                                                                                                                                                                                                                                                                                                                                                                                                                                                                                                                                              |(3532,[2,12,16,28,30,38,59,82,103,115,133,186,192,233,300,303,324,415,721,913,949,2545,2795,3040,3378],[1.0,1.0,1.0,1.0,1.0,1.0,1.0,1.0,1.0,1.0,1.0,1.0,1.0,1.0,1.0,1.0,1.0,1.0,1.0,1.0,1.0,1.0,1.0,1.0,1.0])                                                                                                                                                                                                                                                                                                                                                                          |\n",
      "|As a baby boomer myself I do not find that sincere since the millennials, especially on this forum, would be voting to do the same thing to their kids in spades.\n",
      "\n",
      "By the way, I lean libertarian on this. It was the progressives that ignored a Constitutionally limited govt that did this to us.\n",
      "\n",
      "edited typo                                                                                                                    |-1 |0  |0  |[as, a, baby, boomer, myself, i, do, not, find, that, sincere, since, the, millennials, ,, especially, on, this, forum, ,, would, be, voting, to, do, the, same, thing, to, their, kids, in, spades, ., by, the, way, ,, i, lean, libertarian, on, this, ., it, was, the, progressives, that, ignored, a, constitutionally, limited, govt, that, did, this, to, us, ., edited, typo, as, a, baby, boomer, myself, i, do, not, find, that, sincere, since, the, millennials, especially, on, this, forum, would, be, voting, to, do, the, same, thing, to, their, kids, in, spades, by, the, way, i, lean, libertarian, on, this, it, was, the, progressives, that, ignored, a, constitutionally, limited, govt, that, did, this, to, us, edited, typo, as_a, a_baby, baby_boomer, boomer_myself, myself_i, i_do, do_not, not_find, find_that, that_sincere, sincere_since, since_the, the_millennials, especially_on, on_this, this_forum, would_be, be_voting, voting_to, to_do, do_the, the_same, same_thing, thing_to, to_their, their_kids, kids_in, in_spades, by_the, the_way, i_lean, lean_libertarian, libertarian_on, on_this, it_was, was_the, the_progressives, progressives_that, that_ignored, ignored_a, a_constitutionally, constitutionally_limited, limited_govt, govt_that, that_did, did_this, this_to, to_us, edited_typo, as_a_baby, a_baby_boomer, baby_boomer_myself, boomer_myself_i, myself_i_do, i_do_not, do_not_find, not_find_that, find_that_sincere, that_sincere_since, sincere_since_the, since_the_millennials, especially_on_this, on_this_forum, would_be_voting, be_voting_to, voting_to_do, to_do_the, do_the_same, the_same_thing, same_thing_to, thing_to_their, to_their_kids, their_kids_in, kids_in_spades, by_the_way, i_lean_libertarian, lean_libertarian_on, libertarian_on_this, it_was_the, was_the_progressives, the_progressives_that, progressives_that_ignored, that_ignored_a, ignored_a_constitutionally, a_constitutionally_limited, constitutionally_limited_govt, limited_govt_that, govt_that_did, that_did_this, did_this_to, this_to_us]                                                                                                                                                                                                                                                                                                                                                                                                                                                                                                                                                                                                                                                                                                                                                                                                                                                                                                     |(3532,[0,1,2,3,8,9,10,11,13,14,18,19,21,23,26,40,48,51,52,77,115,139,152,156,194,311,318,376,387,435,444,546,589,623,749,920,1026,1040,1044,1164,1487,1681,1698,2362,2364,2479,2768,2963,3187,3234,3250,3474],[1.0,1.0,1.0,1.0,1.0,1.0,1.0,1.0,1.0,1.0,1.0,1.0,1.0,1.0,1.0,1.0,1.0,1.0,1.0,1.0,1.0,1.0,1.0,1.0,1.0,1.0,1.0,1.0,1.0,1.0,1.0,1.0,1.0,1.0,1.0,1.0,1.0,1.0,1.0,1.0,1.0,1.0,1.0,1.0,1.0,1.0,1.0,1.0,1.0,1.0,1.0,1.0])                                                                                                                                                       |\n",
      "|If you think Obama was a good president, or that Hillary would have made a good president, you know nothing about politics.  \n",
      "\n",
      "Edit: - 31 in less than 5 minutes.  Hi ShareBlue!                                                                                                                                                                                                                                                     |-1 |0  |0  |[if, you, think, obama, was, a, good, president, ,, or, that, hillary, would, have, made, a, good, president, ,, you, know, nothing, about, politics, ., edit, :, -, 31, in, less, than, 5, minutes, ., hi, shareblue, !, if, you, think, obama, was, a, good, president, or, that, hillary, would, have, made, a, good, president, you, know, nothing, about, politics, edit, -, 31, in, less, than, 5, minutes, hi, shareblue, if_you, you_think, think_obama, obama_was, was_a, a_good, good_president, or_that, that_hillary, hillary_would, would_have, have_made, made_a, a_good, good_president, you_know, know_nothing, nothing_about, about_politics, -_31, 31_in, in_less, less_than, than_5, 5_minutes, hi_shareblue, if_you_think, you_think_obama, think_obama_was, obama_was_a, was_a_good, a_good_president, or_that_hillary, that_hillary_would, hillary_would_have, would_have_made, have_made_a, made_a_good, a_good_president, you_know_nothing, know_nothing_about, nothing_about_politics, -_31_in, 31_in_less, in_less_than, less_than_5, than_5_minutes]                                                                                                                                                                                                                                                                                                                                                                                                                                                                                                                                                                                                                                                                                                                                                                                                                                                                                                                                                                                                                                                                                                                                                                                                                                                                                                                                                                                                                                                                                                                                                                                                                                                                                                                                                                                                                                                                                                                           |(3532,[1,3,8,9,10,16,18,24,33,36,37,42,48,49,60,64,72,88,90,99,103,107,108,149,217,401,408,412,413,569,629,735,815,824,1101,1479,1968,2089,2932,3168,3337,3402],[1.0,1.0,1.0,1.0,1.0,1.0,1.0,1.0,1.0,1.0,1.0,1.0,1.0,1.0,1.0,1.0,1.0,1.0,1.0,1.0,1.0,1.0,1.0,1.0,1.0,1.0,1.0,1.0,1.0,1.0,1.0,1.0,1.0,1.0,1.0,1.0,1.0,1.0,1.0,1.0,1.0,1.0])                                                                                                                                                                                                                                             |\n",
      "|I knew it. There was no way that Trump would allow this to happen. Now we just got to wait for another Pentagon Papers event to happen. I'm putting money on the Washington Post and New York Times as the two places that will get this leaked to.                                                                                                                                                                                  |0  |-1 |-1 |[i, knew, it, ., there, was, no, way, that, trump, would, allow, this, to, happen, ., now, we, just, got, to, wait, for, another, pentagon, papers, event, to, happen, ., i'm, putting, money, on, the, washington, post, and, new, york, times, as, the, two, places, that, will, get, this, leaked, to, ., i, knew, it, there, was, no, way, that, trump, would, allow, this, to, happen, now, we, just, got, to, wait, for, another, pentagon, papers, event, to, happen, i'm, putting, money, on, the, washington, post, and, new, york, times, as, the, two, places, that, will, get, this, leaked, to, i_knew, knew_it, there_was, was_no, no_way, way_that, that_trump, trump_would, would_allow, allow_this, this_to, to_happen, now_we, we_just, just_got, got_to, to_wait, wait_for, for_another, another_pentagon, pentagon_papers, papers_event, event_to, to_happen, i'm_putting, putting_money, money_on, on_the, the_washington, washington_post, post_and, and_new, new_york, york_times, times_as, as_the, the_two, two_places, places_that, that_will, will_get, get_this, this_leaked, leaked_to, i_knew_it, there_was_no, was_no_way, no_way_that, way_that_trump, that_trump_would, trump_would_allow, would_allow_this, allow_this_to, this_to_happen, now_we_just, we_just_got, just_got_to, got_to_wait, to_wait_for, wait_for_another, for_another_pentagon, another_pentagon_papers, pentagon_papers_event, papers_event_to, event_to_happen, i'm_putting_money, putting_money_on, money_on_the, on_the_washington, the_washington_post, washington_post_and, post_and_new, and_new_york, new_york_times, york_times_as, times_as_the, as_the_two, the_two_places, two_places_that, places_that_will, that_will_get, will_get_this, get_this_leaked, this_leaked_to]                                                                                                                                                                                                                                                                                                                                                                                                                                                                                                                                                                                                                                                                                                                                                                                                                                                                                                                                                                                                                                                                                                                                                                                                            |(3532,[0,1,2,4,7,9,11,12,13,14,18,19,26,30,35,38,43,48,65,67,69,95,152,210,213,235,244,266,284,329,334,385,421,454,480,572,747,914,1065,1423,1525,1566,1727,1821,2033,2069,2143,2460,2479,2482,2524,2539,2545,2612,2673,2804,2904,2941,3022],[1.0,1.0,1.0,1.0,1.0,1.0,1.0,1.0,1.0,1.0,1.0,1.0,1.0,1.0,1.0,1.0,1.0,1.0,1.0,1.0,1.0,1.0,1.0,1.0,1.0,1.0,1.0,1.0,1.0,1.0,1.0,1.0,1.0,1.0,1.0,1.0,1.0,1.0,1.0,1.0,1.0,1.0,1.0,1.0,1.0,1.0,1.0,1.0,1.0,1.0,1.0,1.0,1.0,1.0,1.0,1.0,1.0,1.0,1.0])                                                                                            |\n",
      "|This is the fucking guy who led the impeachment hearings for Clinton and he has the fucking nerve to say this?\n",
      "\n",
      "Fuck you Newt Gingrich and fuck you Donald Trump, you make me sick.                                                                                                                                                                                                                                                  |0  |0  |-1 |[this, is, the, fucking, guy, who, led, the, impeachment, hearings, for, clinton, and, he, has, the, fucking, nerve, to, say, this, ?, fuck, you, newt, gingrich, and, fuck, you, donald, trump, ,, you, make, me, sick, ., this, is, the, fucking, guy, who, led, the, impeachment, hearings, for, clinton, and, he, has, the, fucking, nerve, to, say, this, fuck, you, newt, gingrich, and, fuck, you, donald, trump, you, make, me, sick, this_is, is_the, the_fucking, fucking_guy, guy_who, who_led, led_the, the_impeachment, impeachment_hearings, hearings_for, for_clinton, clinton_and, and_he, he_has, has_the, the_fucking, fucking_nerve, nerve_to, to_say, say_this, fuck_you, you_newt, newt_gingrich, gingrich_and, and_fuck, fuck_you, you_donald, donald_trump, you_make, make_me, me_sick, this_is_the, is_the_fucking, the_fucking_guy, fucking_guy_who, guy_who_led, who_led_the, led_the_impeachment, the_impeachment_hearings, impeachment_hearings_for, hearings_for_clinton, for_clinton_and, clinton_and_he, and_he_has, he_has_the, has_the_fucking, the_fucking_nerve, fucking_nerve_to, nerve_to_say, to_say_this, fuck_you_newt, you_newt_gingrich, newt_gingrich_and, gingrich_and_fuck, and_fuck_you, fuck_you_donald, you_donald_trump, you_make_me, make_me_sick]                                                                                                                                                                                                                                                                                                                                                                                                                                                                                                                                                                                                                                                                                                                                                                                                                                                                                                                                                                                                                                                                                                                                                                                                                                                                                                                                                                                                                                                                                                                                                                                                                                                                                                      |(3532,[0,1,2,4,6,7,8,11,12,15,16,31,41,44,80,110,112,119,136,140,142,169,195,211,378,713,889,917,958,1012,1639,2101,2193,2281,2353,2743,3038,3351],[1.0,1.0,1.0,1.0,1.0,1.0,1.0,1.0,1.0,1.0,1.0,1.0,1.0,1.0,1.0,1.0,1.0,1.0,1.0,1.0,1.0,1.0,1.0,1.0,1.0,1.0,1.0,1.0,1.0,1.0,1.0,1.0,1.0,1.0,1.0,1.0,1.0,1.0])                                                                                                                                                                                                                                                                          |\n",
      "|Wait, wait, wait, I thought the meeting was about an sanctions, wait no, adoption, wait no... What was it again? Ohh Clinton's fitness for office, why didn't you say that the first time... or the second time.\n",
      "\n",
      "Lying sack of shit.\n",
      "\n",
      "                                                                                                                                                                                              |0  |0  |-1 |[wait, ,, wait, ,, wait, ,, i, thought, the, meeting, was, about, an, sanctions, ,, wait, no, ,, adoption, ,, wait, no, ., ., ., what, was, it, again, ?, ohh, clinton's, fitness, for, office, ,, why, didn't, you, say, that, the, first, time, ., ., ., or, the, second, time, ., lying, sack, of, shit, ., wait, wait, wait, i, thought, the, meeting, was, about, an, sanctions, wait, no, adoption, wait, no, what, was, it, again, ohh, clinton's, fitness, for, office, why, didn't, you, say, that, the, first, time, or, the, second, time, lying, sack, of, shit, i_thought, thought_the, the_meeting, meeting_was, was_about, about_an, an_sanctions, wait_no, wait_no, what_was, was_it, it_again, ohh_clinton's, clinton's_fitness, fitness_for, for_office, why_didn't, didn't_you, you_say, say_that, that_the, the_first, first_time, or_the, the_second, second_time, lying_sack, sack_of, of_shit, i_thought_the, thought_the_meeting, the_meeting_was, meeting_was_about, was_about_an, about_an_sanctions, what_was_it, was_it_again, ohh_clinton's_fitness, clinton's_fitness_for, fitness_for_office, why_didn't_you, didn't_you_say, you_say_that, say_that_the, that_the_first, the_first_time, or_the_second, the_second_time, lying_sack_of, sack_of_shit]                                                                                                                                                                                                                                                                                                                                                                                                                                                                                                                                                                                                                                                                                                                                                                                                                                                                                                                                                                                                                                                                                                                                                                                                                                                                                                                                                                                                                                                                                                                                                                                                                                                                                                                     |(3532,[0,1,5,8,9,12,13,14,16,18,31,37,43,45,50,64,84,96,116,119,134,161,187,266,269,290,319,345,564,678,772,1050,1466,1977,2025,2238,2257,2413,2823],[1.0,1.0,1.0,1.0,1.0,1.0,1.0,1.0,1.0,1.0,1.0,1.0,1.0,1.0,1.0,1.0,1.0,1.0,1.0,1.0,1.0,1.0,1.0,1.0,1.0,1.0,1.0,1.0,1.0,1.0,1.0,1.0,1.0,1.0,1.0,1.0,1.0,1.0,1.0])                                                                                                                                                                                                                                                                    |\n",
      "|All this time I've been wondering why Trump had such a hard on to get rid of McCabe. I mean, sure, he's a witness to the Comey thing but does that really warrant more rocking the boat even more than its been rocked?\n",
      "\n",
      "\n",
      "Its clear now. Trump is going after McCabe for the same reason he went after Comey; their silence wasn't for sale and that eats him up inside.                                                             |0  |0  |-1 |[all, this, time, i've, been, wondering, why, trump, had, such, a, hard, on, to, get, rid, of, mccabe, ., i, mean, ,, sure, ,, he's, a, witness, to, the, comey, thing, but, does, that, really, warrant, more, rocking, the, boat, even, more, than, it's, been, rocked, ?, it's, clear, now, ., trump, is, going, after, mccabe, for, the, same, reason, he, went, after, comey, ;, their, silence, wasn't, for, sale, and, that, eats, him, up, inside, ., all, this, time, i've, been, wondering, why, trump, had, such, a, hard, on, to, get, rid, of, mccabe, i, mean, sure, he's, a, witness, to, the, comey, thing, but, does, that, really, warrant, more, rocking, the, boat, even, more, than, it's, been, rocked, it's, clear, now, trump, is, going, after, mccabe, for, the, same, reason, he, went, after, comey, their, silence, wasn't, for, sale, and, that, eats, him, up, inside, all_this, this_time, time_i've, i've_been, been_wondering, wondering_why, why_trump, trump_had, had_such, such_a, a_hard, hard_on, on_to, to_get, get_rid, rid_of, of_mccabe, i_mean, he's_a, a_witness, witness_to, to_the, the_comey, comey_thing, thing_but, but_does, does_that, that_really, really_warrant, warrant_more, more_rocking, rocking_the, the_boat, boat_even, even_more, more_than, than_it's, it's_been, been_rocked, it's_clear, clear_now, trump_is, is_going, going_after, after_mccabe, mccabe_for, for_the, the_same, same_reason, reason_he, he_went, went_after, after_comey, their_silence, silence_wasn't, wasn't_for, for_sale, sale_and, and_that, that_eats, eats_him, him_up, up_inside, all_this_time, this_time_i've, time_i've_been, i've_been_wondering, been_wondering_why, wondering_why_trump, why_trump_had, trump_had_such, had_such_a, such_a_hard, a_hard_on, hard_on_to, on_to_get, to_get_rid, get_rid_of, rid_of_mccabe, he's_a_witness, a_witness_to, witness_to_the, to_the_comey, the_comey_thing, comey_thing_but, thing_but_does, but_does_that, does_that_really, that_really_warrant, really_warrant_more, warrant_more_rocking, more_rocking_the, rocking_the_boat, the_boat_even, boat_even_more, even_more_than, more_than_it's, than_it's_been, it's_been_rocked, it's_clear_now, trump_is_going, is_going_after, going_after_mccabe, after_mccabe_for, mccabe_for_the, for_the_same, the_same_reason, same_reason_he, reason_he_went, he_went_after, went_after_comey, their_silence_wasn't, silence_wasn't_for, wasn't_for_sale, for_sale_and, sale_and_that, and_that_eats, that_eats_him, eats_him_up, him_up_inside]                                                                                                                                                                                                                                                                                                                                                                                                                  |(3532,[0,1,2,3,4,5,6,7,8,9,11,12,14,15,19,27,29,31,39,52,54,57,59,65,67,73,76,83,84,85,90,92,96,101,122,125,139,156,157,163,168,173,180,229,249,252,263,318,350,442,455,458,461,474,590,894,916,1108,1120,1208,1435,1633,1934,2010,2022,2162,2334,2434,2455,2523,3185,3409,3492],[1.0,1.0,1.0,1.0,1.0,1.0,1.0,1.0,1.0,1.0,1.0,1.0,1.0,1.0,1.0,1.0,1.0,1.0,1.0,1.0,1.0,1.0,1.0,1.0,1.0,1.0,1.0,1.0,1.0,1.0,1.0,1.0,1.0,1.0,1.0,1.0,1.0,1.0,1.0,1.0,1.0,1.0,1.0,1.0,1.0,1.0,1.0,1.0,1.0,1.0,1.0,1.0,1.0,1.0,1.0,1.0,1.0,1.0,1.0,1.0,1.0,1.0,1.0,1.0,1.0,1.0,1.0,1.0,1.0,1.0,1.0,1.0,1.0])|\n",
      "+-------------------------------------------------------------------------------------------------------------------------------------------------------------------------------------------------------------------------------------------------------------------------------------------------------------------------------------------------------------------------------------------------------------------------------------+---+---+---+----------------------------------------------------------------------------------------------------------------------------------------------------------------------------------------------------------------------------------------------------------------------------------------------------------------------------------------------------------------------------------------------------------------------------------------------------------------------------------------------------------------------------------------------------------------------------------------------------------------------------------------------------------------------------------------------------------------------------------------------------------------------------------------------------------------------------------------------------------------------------------------------------------------------------------------------------------------------------------------------------------------------------------------------------------------------------------------------------------------------------------------------------------------------------------------------------------------------------------------------------------------------------------------------------------------------------------------------------------------------------------------------------------------------------------------------------------------------------------------------------------------------------------------------------------------------------------------------------------------------------------------------------------------------------------------------------------------------------------------------------------------------------------------------------------------------------------------------------------------------------------------------------------------------------------------------------------------------------------------------------------------------------------------------------------------------------------------------------------------------------------------------------------------------------------------------------------------------------------------------------------------------------------------------------------------------------------------------------------------------------------------------------------------------------------------------------------------------------------------------------------------------------------------------------------------------------------------------------------------------------------------------------------------------------------------------------------------------------------------------------------------------------------------------------------------------------------------------------------------------------------------------------------------------------------------------------------------------------------------------------------+---------------------------------------------------------------------------------------------------------------------------------------------------------------------------------------------------------------------------------------------------------------------------------------------------------------------------------------------------------------------------------------------------------------------------------------------------------------------------------------------------------------------------------------------------------------------------------------+\n",
      "only showing top 20 rows\n",
      "\n"
     ]
    }
   ],
   "source": [
    "result = model.transform(concat_string_arrays_df)\n",
    "result.show(truncate=False)"
   ]
  },
  {
   "cell_type": "code",
   "execution_count": 10,
   "metadata": {},
   "outputs": [
    {
     "name": "stdout",
     "output_type": "stream",
     "text": [
      "+--------------------+--------------------+---+---+-----+\n",
      "|                body|            features|dem|gop|label|\n",
      "+--------------------+--------------------+---+---+-----+\n",
      "|No it isnt. I cal...|(3532,[1,2,4,6,7,...|  0|  0|    1|\n",
      "|Good move by the ...|(3532,[0,1,2,8,14...|  0|  1|    1|\n",
      "|Well, that's it. ...|(3532,[0,1,2,4,5,...|  0|  0|    0|\n",
      "|&gt;\"I also know ...|(3532,[0,1,4,5,7,...|  0|  0|    0|\n",
      "|&gt;He is asking ...|(3532,[1,2,6,7,8,...|  0|  0|    0|\n",
      "|Donald Trump is b...|(3532,[0,1,3,6,7,...|  0|  0|    0|\n",
      "|Hillary was guilt...|(3532,[0,1,2,4,5,...|  0|  0|    0|\n",
      "|Even by liberal d...|(3532,[0,1,2,3,4,...|  0|  0|    0|\n",
      "|Can you imagine i...|(3532,[0,1,2,3,4,...|  0|  0|    0|\n",
      "|So this is the po...|(3532,[0,1,2,4,5,...|  0|  0|    0|\n",
      "|How can developin...|(3532,[0,1,2,6,9,...|  0|  0|    0|\n",
      "|I see you. Can't ...|(3532,[1,3,4,6,8,...|  0|  0|    0|\n",
      "|&gt; Sane people ...|(3532,[0,1,2,4,6,...|  0|  0|    1|\n",
      "|Oh man we just ne...|(3532,[2,12,16,28...|  0|  0|    0|\n",
      "|As a baby boomer ...|(3532,[0,1,2,3,8,...|  0|  0|    0|\n",
      "|If you think Obam...|(3532,[1,3,8,9,10...|  0|  0|    0|\n",
      "|I knew it. There ...|(3532,[0,1,2,4,7,...|  0|  0|    0|\n",
      "|This is the fucki...|(3532,[0,1,2,4,6,...|  0|  0|    0|\n",
      "|Wait, wait, wait,...|(3532,[0,1,5,8,9,...|  0|  0|    0|\n",
      "|All this time I'v...|(3532,[0,1,2,3,4,...|  0|  0|    0|\n",
      "+--------------------+--------------------+---+---+-----+\n",
      "only showing top 20 rows\n",
      "\n",
      "+--------------------+--------------------+---+---+-----+\n",
      "|                body|            features|dem|gop|label|\n",
      "+--------------------+--------------------+---+---+-----+\n",
      "|No it isnt. I cal...|(3532,[1,2,4,6,7,...|  0|  0|    0|\n",
      "|Good move by the ...|(3532,[0,1,2,8,14...|  1|  0|    0|\n",
      "|Well, that's it. ...|(3532,[0,1,2,4,5,...|  1|  0|    0|\n",
      "|&gt;\"I also know ...|(3532,[0,1,4,5,7,...|  0|  0|    1|\n",
      "|&gt;He is asking ...|(3532,[1,2,6,7,8,...|  0|  0|    1|\n",
      "|Donald Trump is b...|(3532,[0,1,3,6,7,...|  0|  1|    1|\n",
      "|Hillary was guilt...|(3532,[0,1,2,4,5,...|  1|  0|    0|\n",
      "|Even by liberal d...|(3532,[0,1,2,3,4,...|  1|  0|    0|\n",
      "|Can you imagine i...|(3532,[0,1,2,3,4,...|  0|  0|    1|\n",
      "|So this is the po...|(3532,[0,1,2,4,5,...|  0|  1|    1|\n",
      "|How can developin...|(3532,[0,1,2,6,9,...|  1|  0|    0|\n",
      "|I see you. Can't ...|(3532,[1,3,4,6,8,...|  1|  0|    0|\n",
      "|&gt; Sane people ...|(3532,[0,1,2,4,6,...|  0|  0|    0|\n",
      "|Oh man we just ne...|(3532,[2,12,16,28...|  1|  0|    0|\n",
      "|As a baby boomer ...|(3532,[0,1,2,3,8,...|  1|  0|    0|\n",
      "|If you think Obam...|(3532,[1,3,8,9,10...|  1|  0|    0|\n",
      "|I knew it. There ...|(3532,[0,1,2,4,7,...|  0|  1|    1|\n",
      "|This is the fucki...|(3532,[0,1,2,4,6,...|  0|  0|    1|\n",
      "|Wait, wait, wait,...|(3532,[0,1,5,8,9,...|  0|  0|    1|\n",
      "|All this time I'v...|(3532,[0,1,2,3,4,...|  0|  0|    1|\n",
      "+--------------------+--------------------+---+---+-----+\n",
      "only showing top 20 rows\n",
      "\n"
     ]
    }
   ],
   "source": [
    "from pyspark.sql import functions as F\n",
    "pos = result.select(\"body\", \"features\", F.when(X_y._c1 == 1, 1).otherwise(0).alias(\"dem\"), F.when(X_y._c2 == 1, 1).otherwise(0).alias(\"gop\"), F.when(X_y._c3 == 1, 1).otherwise(0).alias(\"label\"))\n",
    "pos.show(20)\n",
    "neg = result.select(\"body\", \"features\", F.when(X_y._c1 == -1, 1).otherwise(0).alias(\"dem\"), F.when(X_y._c2 == -1, 1).otherwise(0).alias(\"gop\"), F.when(X_y._c3 == -1, 1).otherwise(0).alias(\"label\"))\n",
    "neg.show(20)"
   ]
  },
  {
   "cell_type": "markdown",
   "metadata": {},
   "source": [
    "# Task 7"
   ]
  },
  {
   "cell_type": "code",
   "execution_count": 11,
   "metadata": {
    "collapsed": true
   },
   "outputs": [],
   "source": [
    "# Bunch of imports (may need more)\n",
    "from pyspark.ml.classification import LogisticRegression\n",
    "from pyspark.ml.tuning import CrossValidator, ParamGridBuilder\n",
    "from pyspark.ml.evaluation import BinaryClassificationEvaluator\n",
    "# Initialize two logistic regression models.\n",
    "# Replace labelCol with the column containing the label, and featuresCol with the column containing the features.\n",
    "poslr = LogisticRegression(labelCol=\"label\", featuresCol=\"features\", maxIter=10).setThreshold(.2)\n",
    "neglr = LogisticRegression(labelCol=\"label\", featuresCol=\"features\", maxIter=10).setThreshold(.25)"
   ]
  },
  {
   "cell_type": "code",
   "execution_count": 12,
   "metadata": {
    "collapsed": true
   },
   "outputs": [],
   "source": [
    "# This is a binary classifier so we need an evaluator that knows how to deal with binary classifiers.\n",
    "posEvaluator = BinaryClassificationEvaluator()\n",
    "negEvaluator = BinaryClassificationEvaluator()\n",
    "# There are a few parameters associated with logistic regression. We do not know what they are a priori.\n",
    "# We do a grid search to find the best parameters. We can replace [1.0] with a list of values to try.\n",
    "# We will assume the parameter is 1.0. Grid search takes forever.\n",
    "posParamGrid = ParamGridBuilder().addGrid(poslr.regParam, [1.0]).build()\n",
    "negParamGrid = ParamGridBuilder().addGrid(neglr.regParam, [1.0]).build()"
   ]
  },
  {
   "cell_type": "code",
   "execution_count": 13,
   "metadata": {},
   "outputs": [
    {
     "name": "stdout",
     "output_type": "stream",
     "text": [
      "Training positive classifier...\n",
      "Training negative classifier...\n"
     ]
    }
   ],
   "source": [
    "# We initialize a 5 fold cross-validation pipeline.\n",
    "posCrossval = CrossValidator(\n",
    "    estimator=poslr,\n",
    "    evaluator=posEvaluator,\n",
    "    estimatorParamMaps=posParamGrid,\n",
    "    numFolds=5)\n",
    "negCrossval = CrossValidator(\n",
    "    estimator=neglr,\n",
    "    evaluator=negEvaluator,\n",
    "    estimatorParamMaps=negParamGrid,\n",
    "    numFolds=5)\n",
    "# Although crossvalidation creates its own train/test sets for\n",
    "# tuning, we still need a labeled test set, because it is not\n",
    "# accessible from the crossvalidator (argh!)\n",
    "# Split the data 50/50\n",
    "posTrain, posTest = pos.randomSplit([0.5, 0.5])\n",
    "negTrain, negTest = neg.randomSplit([0.5, 0.5])\n",
    "# Train the models\n",
    "print(\"Training positive classifier...\")\n",
    "posModel = posCrossval.fit(posTrain)\n",
    "print(\"Training negative classifier...\")\n",
    "negModel = negCrossval.fit(negTrain)\n",
    "\n",
    "# Once we train the models, we don't want to do it again. We can save the models and load them again later.\n",
    "# posModel.save(\"www/pos.model\")\n",
    "# negModel.save(\"www/neg.model\")"
   ]
  },
  {
   "cell_type": "markdown",
   "metadata": {},
   "source": [
    "# Task 8"
   ]
  },
  {
   "cell_type": "code",
   "execution_count": 14,
   "metadata": {
    "collapsed": true
   },
   "outputs": [],
   "source": [
    "# obtains data for testing\n",
    "comments = sqlContext.read.json(\"comments-minimal.json.bz2\")\n",
    "comments.createOrReplaceTempView(\"Comments\")\n",
    "#comments.printSchema()\n",
    "submissions = sqlContext.read.json(\"submissions.json.bz2\")\n",
    "submissions.createOrReplaceTempView(\"Submissions\")\n",
    "#submissions.printSchema()\n",
    "#submissions.limit(1).show()\n",
    "\n",
    "eval_data = sqlContext.sql(\"SELECT Comments.body as body, Comments.id as id FROM Comments JOIN Submissions ON Comments.link_id = Concat('t3_', Submissions.id)\")\n"
   ]
  },
  {
   "cell_type": "markdown",
   "metadata": {},
   "source": [
    "\n",
    "# Task 9"
   ]
  },
  {
   "cell_type": "code",
   "execution_count": 15,
   "metadata": {
    "collapsed": true
   },
   "outputs": [],
   "source": [
    "# prepares data for testing\n",
    "\n",
    "eval_data.createOrReplaceTempView(\"Eval_data\")\n",
    "#eval_data = sqlContext.sql(\"SELECT * FROM Eval_data\")\n",
    "eval_data = sqlContext.sql(\"SELECT body, id FROM Eval_data WHERE Eval_data.body NOT LIKE '/s' AND Eval_data.body NOT LIKE '&gt'\")\n",
    "\n",
    "#eval_data.where(not(\"/s\" in eval_data.body) and not(\"&gt\" in eval_data.body))\n",
    "\n",
    "sanitize_udf = udf(sanitize)\n",
    "#eval_data.show()\n",
    "sanitized_df = eval_data.select(\"body\", \"id\", sanitize_udf(\"body\").alias(\"n_grams\"))\n",
    "\n",
    "concat_string_arrays_udf = udf(lambda out: (' '.join(out)).split(), ArrayType(StringType(), True))\n",
    "concat_string_arrays_df = sanitized_df.select(\"body\", \"id\", concat_string_arrays_udf(\"n_grams\").alias(\"n_grams_formatted\"))\n",
    "\n",
    "#posTest = concat_string_arrays_df.select(\"body\", \"state\", \"created_utc\", \"score\", \"controversiality\", \"distinguished\", \"retrieved_on\", \"n_grams_formatted\", F.when(concat_string_arrays_df._c3 == 1, 1).otherwise(0).alias(\"label\"))\n",
    "#negTest =  concat_string_arrays_df.select(\"body\", \"state\", \"created_utc\", \"score\", \"controversiality\", \"distinguished\", \"retrieved_on\", \"n_grams_formatted\", F.when(concat_string_arrays_df._c3 == -1, 1).otherwise(0).alias(\"label\"))\n",
    "\n",
    "\n",
    "#run the model on the data\n",
    "\n",
    "\n"
   ]
  },
  {
   "cell_type": "code",
   "execution_count": 16,
   "metadata": {
    "collapsed": true
   },
   "outputs": [],
   "source": [
    "\n",
    "posTestCounts = model.transform(concat_string_arrays_df)\n",
    "posResult = posModel.transform(posTestCounts)\n",
    "negTestCounts = model.transform(concat_string_arrays_df)\n",
    "negResult = negModel.transform(negTestCounts)"
   ]
  },
  {
   "cell_type": "code",
   "execution_count": 17,
   "metadata": {},
   "outputs": [],
   "source": [
    "\n",
    "#posResult.show()\n",
    "#posResult.write.format(\"posResult.csv\")\n",
    "#negResult.show()\n",
    "#negResult.write.format(\"negResult.csv\")"
   ]
  },
  {
   "cell_type": "code",
   "execution_count": null,
   "metadata": {},
   "outputs": [],
   "source": []
  },
  {
   "cell_type": "markdown",
   "metadata": {},
   "source": [
    "# Task 10"
   ]
  },
  {
   "cell_type": "code",
   "execution_count": 18,
   "metadata": {},
   "outputs": [
    {
     "name": "stdout",
     "output_type": "stream",
     "text": [
      "+--------+\n",
      "|count(1)|\n",
      "+--------+\n",
      "|10481025|\n",
      "+--------+\n",
      "\n",
      "+--------+\n",
      "|count(1)|\n",
      "+--------+\n",
      "| 4131453|\n",
      "+--------+\n",
      "\n",
      "+--------+\n",
      "|count(1)|\n",
      "+--------+\n",
      "| 9020610|\n",
      "+--------+\n",
      "\n"
     ]
    }
   ],
   "source": [
    "posResult.createOrReplaceTempView(\"PosResult\")\n",
    "negResult.createOrReplaceTempView(\"NegResult\")\n",
    "resultCount = sqlContext.sql(\"SELECT COUNT(*) FROM PosResult\")\n",
    "resultCount.show()\n",
    "posResultCount = sqlContext.sql(\"SELECT COUNT(*) FROM PosResult WHERE prediction == 1\")\n",
    "posResultCount.show()\n",
    "negResultCount = sqlContext.sql(\"SELECT COUNT(*) FROM NegResult WHERE prediction == 1\")\n",
    "negResultCount.show()"
   ]
  },
  {
   "cell_type": "code",
   "execution_count": 63,
   "metadata": {},
   "outputs": [],
   "source": [
    "comments.createOrReplaceTempView(\"Comments\")\n",
    "posResultWComment = sqlContext.sql(\"SELECT Comments.body as body, Comments.id as id, Comments.author_flair_text as state, Comments.created_utc as created_utc, Comments.score as score, Comments.controversiality as controversiality, Comments.distinguished as distinguished, PosResult.prediction as prediction FROM Comments JOIN PosResult ON Comments.id == PosResult.id\")\n",
    "posResultWComment.createOrReplaceTempView(\"PosResultWComment\")\n",
    "\n"
   ]
  },
  {
   "cell_type": "code",
   "execution_count": 64,
   "metadata": {},
   "outputs": [],
   "source": [
    "negResultWComment = sqlContext.sql(\"SELECT Comments.body as body, Comments.id as id, Comments.author_flair_text as state, Comments.created_utc as created_utc, Comments.score as score, Comments.controversiality as controversiality, Comments.distinguished as distinguished, NegResult.prediction as prediction FROM Comments JOIN NegResult ON Comments.id == NegResult.id\")\n",
    "negResultWComment.createOrReplaceTempView(\"NegResultWComment\")\n"
   ]
  },
  {
   "cell_type": "code",
   "execution_count": 84,
   "metadata": {},
   "outputs": [
    {
     "name": "stdout",
     "output_type": "stream",
     "text": [
      "root\n",
      " |-- archived: boolean (nullable = true)\n",
      " |-- author: string (nullable = true)\n",
      " |-- author_cakeday: boolean (nullable = true)\n",
      " |-- author_flair_css_class: string (nullable = true)\n",
      " |-- author_flair_text: string (nullable = true)\n",
      " |-- brand_safe: boolean (nullable = true)\n",
      " |-- can_gild: boolean (nullable = true)\n",
      " |-- can_mod_post: boolean (nullable = true)\n",
      " |-- contest_mode: boolean (nullable = true)\n",
      " |-- created_utc: long (nullable = true)\n",
      " |-- crosspost_parent: string (nullable = true)\n",
      " |-- crosspost_parent_list: array (nullable = true)\n",
      " |    |-- element: struct (containsNull = true)\n",
      " |    |    |-- archived: boolean (nullable = true)\n",
      " |    |    |-- author: string (nullable = true)\n",
      " |    |    |-- author_cakeday: boolean (nullable = true)\n",
      " |    |    |-- author_flair_css_class: string (nullable = true)\n",
      " |    |    |-- author_flair_text: string (nullable = true)\n",
      " |    |    |-- brand_safe: boolean (nullable = true)\n",
      " |    |    |-- can_gild: boolean (nullable = true)\n",
      " |    |    |-- can_mod_post: boolean (nullable = true)\n",
      " |    |    |-- clicked: boolean (nullable = true)\n",
      " |    |    |-- contest_mode: boolean (nullable = true)\n",
      " |    |    |-- created: double (nullable = true)\n",
      " |    |    |-- created_utc: double (nullable = true)\n",
      " |    |    |-- distinguished: string (nullable = true)\n",
      " |    |    |-- domain: string (nullable = true)\n",
      " |    |    |-- downs: long (nullable = true)\n",
      " |    |    |-- edited: string (nullable = true)\n",
      " |    |    |-- gilded: long (nullable = true)\n",
      " |    |    |-- hidden: boolean (nullable = true)\n",
      " |    |    |-- hide_score: boolean (nullable = true)\n",
      " |    |    |-- id: string (nullable = true)\n",
      " |    |    |-- is_crosspostable: boolean (nullable = true)\n",
      " |    |    |-- is_reddit_media_domain: boolean (nullable = true)\n",
      " |    |    |-- is_self: boolean (nullable = true)\n",
      " |    |    |-- is_video: boolean (nullable = true)\n",
      " |    |    |-- link_flair_css_class: string (nullable = true)\n",
      " |    |    |-- link_flair_text: string (nullable = true)\n",
      " |    |    |-- locked: boolean (nullable = true)\n",
      " |    |    |-- media: struct (nullable = true)\n",
      " |    |    |    |-- oembed: struct (nullable = true)\n",
      " |    |    |    |    |-- author_name: string (nullable = true)\n",
      " |    |    |    |    |-- author_url: string (nullable = true)\n",
      " |    |    |    |    |-- description: string (nullable = true)\n",
      " |    |    |    |    |-- height: long (nullable = true)\n",
      " |    |    |    |    |-- html: string (nullable = true)\n",
      " |    |    |    |    |-- provider_name: string (nullable = true)\n",
      " |    |    |    |    |-- provider_url: string (nullable = true)\n",
      " |    |    |    |    |-- thumbnail_height: long (nullable = true)\n",
      " |    |    |    |    |-- thumbnail_url: string (nullable = true)\n",
      " |    |    |    |    |-- thumbnail_width: long (nullable = true)\n",
      " |    |    |    |    |-- title: string (nullable = true)\n",
      " |    |    |    |    |-- type: string (nullable = true)\n",
      " |    |    |    |    |-- url: string (nullable = true)\n",
      " |    |    |    |    |-- version: string (nullable = true)\n",
      " |    |    |    |    |-- width: long (nullable = true)\n",
      " |    |    |    |-- type: string (nullable = true)\n",
      " |    |    |-- media_embed: struct (nullable = true)\n",
      " |    |    |    |-- content: string (nullable = true)\n",
      " |    |    |    |-- height: long (nullable = true)\n",
      " |    |    |    |-- media_domain_url: string (nullable = true)\n",
      " |    |    |    |-- scrolling: boolean (nullable = true)\n",
      " |    |    |    |-- width: long (nullable = true)\n",
      " |    |    |-- mod_reports: array (nullable = true)\n",
      " |    |    |    |-- element: string (containsNull = true)\n",
      " |    |    |-- name: string (nullable = true)\n",
      " |    |    |-- no_follow: boolean (nullable = true)\n",
      " |    |    |-- num_comments: long (nullable = true)\n",
      " |    |    |-- num_crossposts: long (nullable = true)\n",
      " |    |    |-- over_18: boolean (nullable = true)\n",
      " |    |    |-- parent_whitelist_status: string (nullable = true)\n",
      " |    |    |-- permalink: string (nullable = true)\n",
      " |    |    |-- pinned: boolean (nullable = true)\n",
      " |    |    |-- post_hint: string (nullable = true)\n",
      " |    |    |-- preview: struct (nullable = true)\n",
      " |    |    |    |-- enabled: boolean (nullable = true)\n",
      " |    |    |    |-- images: array (nullable = true)\n",
      " |    |    |    |    |-- element: struct (containsNull = true)\n",
      " |    |    |    |    |    |-- id: string (nullable = true)\n",
      " |    |    |    |    |    |-- resolutions: array (nullable = true)\n",
      " |    |    |    |    |    |    |-- element: struct (containsNull = true)\n",
      " |    |    |    |    |    |    |    |-- height: long (nullable = true)\n",
      " |    |    |    |    |    |    |    |-- url: string (nullable = true)\n",
      " |    |    |    |    |    |    |    |-- width: long (nullable = true)\n",
      " |    |    |    |    |    |-- source: struct (nullable = true)\n",
      " |    |    |    |    |    |    |-- height: long (nullable = true)\n",
      " |    |    |    |    |    |    |-- url: string (nullable = true)\n",
      " |    |    |    |    |    |    |-- width: long (nullable = true)\n",
      " |    |    |    |    |    |-- variants: struct (nullable = true)\n",
      " |    |    |    |    |    |    |-- nsfw: struct (nullable = true)\n",
      " |    |    |    |    |    |    |    |-- resolutions: array (nullable = true)\n",
      " |    |    |    |    |    |    |    |    |-- element: struct (containsNull = true)\n",
      " |    |    |    |    |    |    |    |    |    |-- height: long (nullable = true)\n",
      " |    |    |    |    |    |    |    |    |    |-- url: string (nullable = true)\n",
      " |    |    |    |    |    |    |    |    |    |-- width: long (nullable = true)\n",
      " |    |    |    |    |    |    |    |-- source: struct (nullable = true)\n",
      " |    |    |    |    |    |    |    |    |-- height: long (nullable = true)\n",
      " |    |    |    |    |    |    |    |    |-- url: string (nullable = true)\n",
      " |    |    |    |    |    |    |    |    |-- width: long (nullable = true)\n",
      " |    |    |    |    |    |    |-- obfuscated: struct (nullable = true)\n",
      " |    |    |    |    |    |    |    |-- resolutions: array (nullable = true)\n",
      " |    |    |    |    |    |    |    |    |-- element: struct (containsNull = true)\n",
      " |    |    |    |    |    |    |    |    |    |-- height: long (nullable = true)\n",
      " |    |    |    |    |    |    |    |    |    |-- url: string (nullable = true)\n",
      " |    |    |    |    |    |    |    |    |    |-- width: long (nullable = true)\n",
      " |    |    |    |    |    |    |    |-- source: struct (nullable = true)\n",
      " |    |    |    |    |    |    |    |    |-- height: long (nullable = true)\n",
      " |    |    |    |    |    |    |    |    |-- url: string (nullable = true)\n",
      " |    |    |    |    |    |    |    |    |-- width: long (nullable = true)\n",
      " |    |    |-- quarantine: boolean (nullable = true)\n",
      " |    |    |-- saved: boolean (nullable = true)\n",
      " |    |    |-- score: long (nullable = true)\n",
      " |    |    |-- secure_media: struct (nullable = true)\n",
      " |    |    |    |-- oembed: struct (nullable = true)\n",
      " |    |    |    |    |-- author_name: string (nullable = true)\n",
      " |    |    |    |    |-- author_url: string (nullable = true)\n",
      " |    |    |    |    |-- description: string (nullable = true)\n",
      " |    |    |    |    |-- height: long (nullable = true)\n",
      " |    |    |    |    |-- html: string (nullable = true)\n",
      " |    |    |    |    |-- provider_name: string (nullable = true)\n",
      " |    |    |    |    |-- provider_url: string (nullable = true)\n",
      " |    |    |    |    |-- thumbnail_height: long (nullable = true)\n",
      " |    |    |    |    |-- thumbnail_url: string (nullable = true)\n",
      " |    |    |    |    |-- thumbnail_width: long (nullable = true)\n",
      " |    |    |    |    |-- title: string (nullable = true)\n",
      " |    |    |    |    |-- type: string (nullable = true)\n",
      " |    |    |    |    |-- url: string (nullable = true)\n",
      " |    |    |    |    |-- version: string (nullable = true)\n",
      " |    |    |    |    |-- width: long (nullable = true)\n",
      " |    |    |    |-- type: string (nullable = true)\n",
      " |    |    |-- secure_media_embed: struct (nullable = true)\n",
      " |    |    |    |-- content: string (nullable = true)\n",
      " |    |    |    |-- height: long (nullable = true)\n",
      " |    |    |    |-- media_domain_url: string (nullable = true)\n",
      " |    |    |    |-- scrolling: boolean (nullable = true)\n",
      " |    |    |    |-- width: long (nullable = true)\n",
      " |    |    |-- selftext: string (nullable = true)\n",
      " |    |    |-- selftext_html: string (nullable = true)\n",
      " |    |    |-- send_replies: boolean (nullable = true)\n",
      " |    |    |-- spoiler: boolean (nullable = true)\n",
      " |    |    |-- stickied: boolean (nullable = true)\n",
      " |    |    |-- subreddit: string (nullable = true)\n",
      " |    |    |-- subreddit_id: string (nullable = true)\n",
      " |    |    |-- subreddit_name_prefixed: string (nullable = true)\n",
      " |    |    |-- subreddit_type: string (nullable = true)\n",
      " |    |    |-- suggested_sort: string (nullable = true)\n",
      " |    |    |-- thumbnail: string (nullable = true)\n",
      " |    |    |-- thumbnail_height: long (nullable = true)\n",
      " |    |    |-- thumbnail_width: long (nullable = true)\n",
      " |    |    |-- title: string (nullable = true)\n",
      " |    |    |-- ups: long (nullable = true)\n",
      " |    |    |-- url: string (nullable = true)\n",
      " |    |    |-- user_reports: array (nullable = true)\n",
      " |    |    |    |-- element: string (containsNull = true)\n",
      " |    |    |-- visited: boolean (nullable = true)\n",
      " |    |    |-- whitelist_status: string (nullable = true)\n",
      " |-- distinguished: string (nullable = true)\n",
      " |-- domain: string (nullable = true)\n",
      " |-- downs: long (nullable = true)\n",
      " |-- edited: string (nullable = true)\n",
      " |-- gilded: long (nullable = true)\n",
      " |-- hidden: boolean (nullable = true)\n",
      " |-- hide_score: boolean (nullable = true)\n",
      " |-- id: string (nullable = true)\n",
      " |-- is_crosspostable: boolean (nullable = true)\n",
      " |-- is_reddit_media_domain: boolean (nullable = true)\n",
      " |-- is_self: boolean (nullable = true)\n",
      " |-- is_video: boolean (nullable = true)\n",
      " |-- link_flair_css_class: string (nullable = true)\n",
      " |-- link_flair_text: string (nullable = true)\n",
      " |-- locked: boolean (nullable = true)\n",
      " |-- media: struct (nullable = true)\n",
      " |    |-- event_id: string (nullable = true)\n",
      " |    |-- oembed: struct (nullable = true)\n",
      " |    |    |-- author_name: string (nullable = true)\n",
      " |    |    |-- author_url: string (nullable = true)\n",
      " |    |    |-- cache_age: long (nullable = true)\n",
      " |    |    |-- description: string (nullable = true)\n",
      " |    |    |-- height: long (nullable = true)\n",
      " |    |    |-- html: string (nullable = true)\n",
      " |    |    |-- mean_alpha: double (nullable = true)\n",
      " |    |    |-- provider_name: string (nullable = true)\n",
      " |    |    |-- provider_url: string (nullable = true)\n",
      " |    |    |-- thumbnail_height: long (nullable = true)\n",
      " |    |    |-- thumbnail_url: string (nullable = true)\n",
      " |    |    |-- thumbnail_width: long (nullable = true)\n",
      " |    |    |-- title: string (nullable = true)\n",
      " |    |    |-- type: string (nullable = true)\n",
      " |    |    |-- url: string (nullable = true)\n",
      " |    |    |-- version: string (nullable = true)\n",
      " |    |    |-- width: long (nullable = true)\n",
      " |    |-- type: string (nullable = true)\n",
      " |-- media_embed: struct (nullable = true)\n",
      " |    |-- content: string (nullable = true)\n",
      " |    |-- height: long (nullable = true)\n",
      " |    |-- media_domain_url: string (nullable = true)\n",
      " |    |-- scrolling: boolean (nullable = true)\n",
      " |    |-- width: long (nullable = true)\n",
      " |-- name: string (nullable = true)\n",
      " |-- no_follow: boolean (nullable = true)\n",
      " |-- num_comments: long (nullable = true)\n",
      " |-- num_crossposts: long (nullable = true)\n",
      " |-- over_18: boolean (nullable = true)\n",
      " |-- parent_whitelist_status: string (nullable = true)\n",
      " |-- permalink: string (nullable = true)\n",
      " |-- pinned: boolean (nullable = true)\n",
      " |-- post_hint: string (nullable = true)\n",
      " |-- preview: struct (nullable = true)\n",
      " |    |-- enabled: boolean (nullable = true)\n",
      " |    |-- images: array (nullable = true)\n",
      " |    |    |-- element: struct (containsNull = true)\n",
      " |    |    |    |-- id: string (nullable = true)\n",
      " |    |    |    |-- resolutions: array (nullable = true)\n",
      " |    |    |    |    |-- element: struct (containsNull = true)\n",
      " |    |    |    |    |    |-- height: long (nullable = true)\n",
      " |    |    |    |    |    |-- url: string (nullable = true)\n",
      " |    |    |    |    |    |-- width: long (nullable = true)\n",
      " |    |    |    |-- source: struct (nullable = true)\n",
      " |    |    |    |    |-- height: long (nullable = true)\n",
      " |    |    |    |    |-- url: string (nullable = true)\n",
      " |    |    |    |    |-- width: long (nullable = true)\n",
      " |    |    |    |-- variants: struct (nullable = true)\n",
      " |    |    |    |    |-- nsfw: struct (nullable = true)\n",
      " |    |    |    |    |    |-- resolutions: array (nullable = true)\n",
      " |    |    |    |    |    |    |-- element: struct (containsNull = true)\n",
      " |    |    |    |    |    |    |    |-- height: long (nullable = true)\n",
      " |    |    |    |    |    |    |    |-- url: string (nullable = true)\n",
      " |    |    |    |    |    |    |    |-- width: long (nullable = true)\n",
      " |    |    |    |    |    |-- source: struct (nullable = true)\n",
      " |    |    |    |    |    |    |-- height: long (nullable = true)\n",
      " |    |    |    |    |    |    |-- url: string (nullable = true)\n",
      " |    |    |    |    |    |    |-- width: long (nullable = true)\n",
      " |    |    |    |    |-- obfuscated: struct (nullable = true)\n",
      " |    |    |    |    |    |-- resolutions: array (nullable = true)\n",
      " |    |    |    |    |    |    |-- element: struct (containsNull = true)\n",
      " |    |    |    |    |    |    |    |-- height: long (nullable = true)\n",
      " |    |    |    |    |    |    |    |-- url: string (nullable = true)\n",
      " |    |    |    |    |    |    |    |-- width: long (nullable = true)\n",
      " |    |    |    |    |    |-- source: struct (nullable = true)\n",
      " |    |    |    |    |    |    |-- height: long (nullable = true)\n",
      " |    |    |    |    |    |    |-- url: string (nullable = true)\n",
      " |    |    |    |    |    |    |-- width: long (nullable = true)\n",
      " |-- quarantine: boolean (nullable = true)\n",
      " |-- retrieved_on: long (nullable = true)\n",
      " |-- saved: boolean (nullable = true)\n",
      " |-- score: long (nullable = true)\n",
      " |-- secure_media: struct (nullable = true)\n",
      " |    |-- event_id: string (nullable = true)\n",
      " |    |-- oembed: struct (nullable = true)\n",
      " |    |    |-- author_name: string (nullable = true)\n",
      " |    |    |-- author_url: string (nullable = true)\n",
      " |    |    |-- cache_age: long (nullable = true)\n",
      " |    |    |-- description: string (nullable = true)\n",
      " |    |    |-- height: long (nullable = true)\n",
      " |    |    |-- html: string (nullable = true)\n",
      " |    |    |-- mean_alpha: double (nullable = true)\n",
      " |    |    |-- provider_name: string (nullable = true)\n",
      " |    |    |-- provider_url: string (nullable = true)\n",
      " |    |    |-- thumbnail_height: long (nullable = true)\n",
      " |    |    |-- thumbnail_url: string (nullable = true)\n",
      " |    |    |-- thumbnail_width: long (nullable = true)\n",
      " |    |    |-- title: string (nullable = true)\n",
      " |    |    |-- type: string (nullable = true)\n",
      " |    |    |-- url: string (nullable = true)\n",
      " |    |    |-- version: string (nullable = true)\n",
      " |    |    |-- width: long (nullable = true)\n",
      " |    |-- type: string (nullable = true)\n",
      " |-- secure_media_embed: struct (nullable = true)\n",
      " |    |-- content: string (nullable = true)\n",
      " |    |-- height: long (nullable = true)\n",
      " |    |-- media_domain_url: string (nullable = true)\n",
      " |    |-- scrolling: boolean (nullable = true)\n",
      " |    |-- width: long (nullable = true)\n",
      " |-- selftext: string (nullable = true)\n",
      " |-- send_replies: boolean (nullable = true)\n",
      " |-- spoiler: boolean (nullable = true)\n",
      " |-- stickied: boolean (nullable = true)\n",
      " |-- subreddit: string (nullable = true)\n",
      " |-- subreddit_id: string (nullable = true)\n",
      " |-- subreddit_type: string (nullable = true)\n",
      " |-- suggested_sort: string (nullable = true)\n",
      " |-- thumbnail: string (nullable = true)\n",
      " |-- thumbnail_height: long (nullable = true)\n",
      " |-- thumbnail_width: long (nullable = true)\n",
      " |-- title: string (nullable = true)\n",
      " |-- ups: long (nullable = true)\n",
      " |-- url: string (nullable = true)\n",
      " |-- whitelist_status: string (nullable = true)\n",
      "\n"
     ]
    }
   ],
   "source": [
    "submissions = sqlContext.read.json(\"submissions.json.bz2\")\n",
    "submissions.printSchema()"
   ]
  },
  {
   "cell_type": "code",
   "execution_count": 85,
   "metadata": {},
   "outputs": [],
   "source": [
    "submissions.createOrReplaceTempView(\"Submssions\")\n",
    "\n",
    "posResultWSubmission = sqlContext.sql(\"SELECT Submissions.score as score, Submissions.id as id, PosResult.prediction as prediction FROM Submissions JOIN PosResult ON Submissions.id == PosResult.id\")\n",
    "posResultWSubmission.createOrReplaceTempView(\"PosResultWSubmission\")\n",
    "\n",
    "negResultWSubmission = sqlContext.sql(\"SELECT Submissions.score as score, Submissions.id as id, NegResult.prediction as prediction FROM Submissions JOIN NegResult ON Submissions.id == NegResult.id\")\n",
    "negResultWSubmission.createOrReplaceTempView(\"NegResultWSubmission\")\n",
    "\n"
   ]
  },
  {
   "cell_type": "code",
   "execution_count": 93,
   "metadata": {},
   "outputs": [],
   "source": [
    "#percent by day of year\n",
    "posDays = sqlContext.sql(\"SELECT FROM_UNIXTIME(created_utc, 'Y-mm-d') AS date, SUM(prediction) / COUNT(prediction) as pct FROM PosResultWComment GROUP BY date\")\n",
    "negDays = sqlContext.sql(\"SELECT FROM_UNIXTIME(created_utc, 'Y-mm-d') AS date, SUM(prediction) / COUNT(prediction) as pct FROM NegResultWComment GROUP BY date\")\n",
    "\n",
    "\n",
    "posState = sqlContext.sql(\"SELECT state, SUM(prediction) / COUNT(prediction) as pct FROM PosResultWComment WHERE state = 'Alabama' OR state ='Alaska' OR state ='Arizona' OR state ='Arkansas' OR state='California' OR state ='Colorado' OR state ='Connecticut' OR state ='Delaware' OR state ='District of Columbia' OR state ='Florida' OR state ='Georgia' OR state ='Hawaii' OR state ='Idaho' OR state ='Illinois' OR state ='Indiana' OR state ='Iowa' OR state ='Kansas' OR state ='Kentucky' OR state ='Louisiana' OR state ='Maine' OR state ='Maryland' OR state ='Massachusetts' OR state ='Michigan' OR state ='Minnesota' OR state ='Mississippi' OR state ='Missouri' OR state ='Montana' OR state ='Nebraska' OR state ='Nevada' OR state ='New Hampshire' OR state ='New Jersey' OR state ='New Mexico' OR state ='New York' OR state ='North Carolina' OR state ='North Dakota' OR state ='Ohio' OR state ='Oklahoma' OR state ='Oregon' OR state ='Pennsylvania' OR state ='Rhode Island' OR state ='South Carolina' OR state ='South Dakota' OR state ='Tennessee' OR state ='Texas' OR state ='Utah' OR state ='Vermont' OR state ='Virginia' OR state ='Washington' OR state ='West Virginia' OR state ='Wisconsin' OR state ='Wyoming' GROUP BY state\")\n",
    "negState = sqlContext.sql(\"SELECT state, SUM(prediction) / COUNT(prediction) as pct FROM NegResultWComment WHERE state = 'Alabama' OR state ='Alaska' OR state ='Arizona' OR state ='Arkansas' OR state='California' OR state ='Colorado' OR state ='Connecticut' OR state ='Delaware' OR state ='District of Columbia' OR state ='Florida' OR state ='Georgia' OR state ='Hawaii' OR state ='Idaho' OR state ='Illinois' OR state ='Indiana' OR state ='Iowa' OR state ='Kansas' OR state ='Kentucky' OR state ='Louisiana' OR state ='Maine' OR state ='Maryland' OR state ='Massachusetts' OR state ='Michigan' OR state ='Minnesota' OR state ='Mississippi' OR state ='Missouri' OR state ='Montana' OR state ='Nebraska' OR state ='Nevada' OR state ='New Hampshire' OR state ='New Jersey' OR state ='New Mexico' OR state ='New York' OR state ='North Carolina' OR state ='North Dakota' OR state ='Ohio' OR state ='Oklahoma' OR state ='Oregon' OR state ='Pennsylvania' OR state ='Rhode Island' OR state ='South Carolina' OR state ='South Dakota' OR state ='Tennessee' OR state ='Texas' OR state ='Utah' OR state ='Vermont' OR state ='Virginia' OR state ='Washington' OR state ='West Virginia' OR state ='Wisconsin' OR state ='Wyoming' GROUP BY state\")\n",
    "\n",
    "posCommScores = sqlContext.sql(\"SELECT score, SUM(prediction) / COUNT(prediction) as pct FROM PosResultWComment GROUP BY score\")\n",
    "negCommScores = sqlContext.sql(\"SELECT score, SUM(prediction) / COUNT(prediction) as pct FROM NegResultWComment GROUP BY score\")\n",
    "\n",
    "posSubScores = sqlContext.sql(\"SELECT score, SUM(prediction) / COUNT(prediction) as pct FROM PosResultWSubmission GROUP BY score\")\n",
    "negSubScores = sqlContext.sql(\"SELECT score, SUM(prediction) / COUNT(prediction) as pct FROM NegResultWSubmission GROUP BY score\")\n",
    "\n",
    "posControversiality = sqlContext.sql(\"SELECT controversiality, SUM(prediction) / COUNT(prediction) as pct FROM PosResultWComment GROUP BY controversiality\")\n",
    "negControversiality = sqlContext.sql(\"SELECT controversiality, SUM(prediction) / COUNT(prediction) as pct FROM NegResultWComment GROUP BY controversiality\")\n",
    "\n",
    "posDistinguished = sqlContext.sql(\"SELECT distinguished, SUM(prediction) / COUNT(prediction) as pct FROM PosResultWComment GROUP BY distinguished\")\n",
    "negDistinguished = sqlContext.sql(\"SELECT distinguished, SUM(prediction) / COUNT(prediction) as pct FROM NegResultWComment GROUP BY distinguished\")\n",
    "\n"
   ]
  },
  {
   "cell_type": "code",
   "execution_count": 96,
   "metadata": {},
   "outputs": [],
   "source": [
    "# posState.show(50, False)\n",
    "# negState.show(50, False)\n",
    "\n",
    "# posCommScores.show(posCommScores.count(), False)\n",
    "# negCommScores.show(negCommScores.count(), False)\n",
    "\n",
    "# posDays.show(366, False)\n",
    "# negDays.show(366, False)\n",
    "\n",
    "# posControversiality(posControversiality.count(), False)\n",
    "# negControversiality(negControversiality.count(), False)\n",
    "\n",
    "# posDistinguished(posDistinguished.count(), False)\n",
    "# negDistinguished(negDistinguished.count(), False)\n"
   ]
  },
  {
   "cell_type": "code",
   "execution_count": null,
   "metadata": {},
   "outputs": [],
   "source": [
    "\n"
   ]
  },
  {
   "cell_type": "code",
   "execution_count": 97,
   "metadata": {},
   "outputs": [
    {
     "name": "stdout",
     "output_type": "stream",
     "text": [
      "== Parsed Logical Plan ==\n",
      "'Aggregate ['date], ['FROM_UNIXTIME('created_utc, Y-mm-d) AS date#5336, ('SUM('prediction) / 'COUNT('prediction)) AS pct#5337]\n",
      "+- 'UnresolvedRelation `PosResultWComment`\n",
      "\n",
      "== Analyzed Logical Plan ==\n",
      "date: string, pct: double\n",
      "Aggregate [from_unixtime(created_utc#4090L, Y-mm-d, Some(America/Los_Angeles))], [from_unixtime(created_utc#4090L, Y-mm-d, Some(America/Los_Angeles)) AS date#5336, (sum(prediction#4094) / cast(count(prediction#4094) as double)) AS pct#5337]\n",
      "+- SubqueryAlias posresultwcomment\n",
      "   +- Project [body#3322 AS body#4087, id#3332 AS id#4088, author_flair_text#3321 AS state#4089, created_utc#3328L AS created_utc#4090L, score#3338L AS score#4091L, controversiality#3327L AS controversiality#4092L, distinguished#3329 AS distinguished#4093, prediction#3526 AS prediction#4094]\n",
      "      +- Join Inner, (id#3332 = id#3495)\n",
      "         :- SubqueryAlias comments\n",
      "         :  +- Relation[author#3318,author_cakeday#3319,author_flair_css_class#3320,author_flair_text#3321,body#3322,can_gild#3323,can_mod_post#3324,collapsed#3325,collapsed_reason#3326,controversiality#3327L,created_utc#3328L,distinguished#3329,edited#3330,gilded#3331L,id#3332,is_submitter#3333,link_id#3334,parent_id#3335,permalink#3336,retrieved_on#3337L,score#3338L,stickied#3339,subreddit#3340,subreddit_id#3341,subreddit_type#3342] json\n",
      "         +- SubqueryAlias posresult\n",
      "            +- Project [body#3494, id#3495, n_grams_formatted#3504, features#3508, rawPrediction#3513, probability#3519, UDF(rawPrediction#3513) AS prediction#3526]\n",
      "               +- Project [body#3494, id#3495, n_grams_formatted#3504, features#3508, rawPrediction#3513, UDF(rawPrediction#3513) AS probability#3519]\n",
      "                  +- Project [body#3494, id#3495, n_grams_formatted#3504, features#3508, UDF(features#3508) AS rawPrediction#3513]\n",
      "                     +- Project [body#3494, id#3495, n_grams_formatted#3504, UDF(n_grams_formatted#3504) AS features#3508]\n",
      "                        +- Project [body#3494, id#3495, <lambda>(n_grams#3500) AS n_grams_formatted#3504]\n",
      "                           +- Project [body#3494, id#3495, sanitize(body#3494) AS n_grams#3500]\n",
      "                              +- Project [body#3494, id#3495]\n",
      "                                 +- Filter (NOT body#3494 LIKE /s && NOT body#3494 LIKE &gt)\n",
      "                                    +- SubqueryAlias eval_data\n",
      "                                       +- Project [body#3322 AS body#3494, id#3332 AS id#3495]\n",
      "                                          +- Join Inner, (link_id#3334 = concat(t3_, id#3393))\n",
      "                                             :- SubqueryAlias comments\n",
      "                                             :  +- Relation[author#3318,author_cakeday#3319,author_flair_css_class#3320,author_flair_text#3321,body#3322,can_gild#3323,can_mod_post#3324,collapsed#3325,collapsed_reason#3326,controversiality#3327L,created_utc#3328L,distinguished#3329,edited#3330,gilded#3331L,id#3332,is_submitter#3333,link_id#3334,parent_id#3335,permalink#3336,retrieved_on#3337L,score#3338L,stickied#3339,subreddit#3340,subreddit_id#3341,subreddit_type#3342] json\n",
      "                                             +- SubqueryAlias submissions\n",
      "                                                +- Relation[archived#3374,author#3375,author_cakeday#3376,author_flair_css_class#3377,author_flair_text#3378,brand_safe#3379,can_gild#3380,can_mod_post#3381,contest_mode#3382,created_utc#3383L,crosspost_parent#3384,crosspost_parent_list#3385,distinguished#3386,domain#3387,downs#3388L,edited#3389,gilded#3390L,hidden#3391,hide_score#3392,id#3393,is_crosspostable#3394,is_reddit_media_domain#3395,is_self#3396,is_video#3397,... 36 more fields] json\n",
      "\n",
      "== Optimized Logical Plan ==\n",
      "Aggregate [from_unixtime(created_utc#3328L, Y-mm-d, Some(America/Los_Angeles))], [from_unixtime(created_utc#3328L, Y-mm-d, Some(America/Los_Angeles)) AS date#5336, (sum(prediction#3526) / cast(count(1) as double)) AS pct#5337]\n",
      "+- Project [created_utc#3328L, prediction#3526]\n",
      "   +- Join Inner, (id#3332 = id#3495)\n",
      "      :- Project [created_utc#3328L, id#3332]\n",
      "      :  +- Filter isnotnull(id#3332)\n",
      "      :     +- Relation[author#3318,author_cakeday#3319,author_flair_css_class#3320,author_flair_text#3321,body#3322,can_gild#3323,can_mod_post#3324,collapsed#3325,collapsed_reason#3326,controversiality#3327L,created_utc#3328L,distinguished#3329,edited#3330,gilded#3331L,id#3332,is_submitter#3333,link_id#3334,parent_id#3335,permalink#3336,retrieved_on#3337L,score#3338L,stickied#3339,subreddit#3340,subreddit_id#3341,subreddit_type#3342] json\n",
      "      +- Project [id#3332 AS id#3495, UDF(UDF(UDF(<lambda>(sanitize(body#3322))))) AS prediction#3526]\n",
      "         +- Join Inner, (link_id#3334 = concat(t3_, id#3393))\n",
      "            :- Project [body#3322, id#3332, link_id#3334]\n",
      "            :  +- Filter ((((isnotnull(body#3322) && NOT (body#3322 = /s)) && NOT (body#3322 = &gt)) && isnotnull(link_id#3334)) && isnotnull(id#3332))\n",
      "            :     +- Relation[author#3318,author_cakeday#3319,author_flair_css_class#3320,author_flair_text#3321,body#3322,can_gild#3323,can_mod_post#3324,collapsed#3325,collapsed_reason#3326,controversiality#3327L,created_utc#3328L,distinguished#3329,edited#3330,gilded#3331L,id#3332,is_submitter#3333,link_id#3334,parent_id#3335,permalink#3336,retrieved_on#3337L,score#3338L,stickied#3339,subreddit#3340,subreddit_id#3341,subreddit_type#3342] json\n",
      "            +- Project [id#3393]\n",
      "               +- Relation[archived#3374,author#3375,author_cakeday#3376,author_flair_css_class#3377,author_flair_text#3378,brand_safe#3379,can_gild#3380,can_mod_post#3381,contest_mode#3382,created_utc#3383L,crosspost_parent#3384,crosspost_parent_list#3385,distinguished#3386,domain#3387,downs#3388L,edited#3389,gilded#3390L,hidden#3391,hide_score#3392,id#3393,is_crosspostable#3394,is_reddit_media_domain#3395,is_self#3396,is_video#3397,... 36 more fields] json\n",
      "\n",
      "== Physical Plan ==\n",
      "*(8) HashAggregate(keys=[from_unixtime(created_utc#3328L, Y-mm-d, Some(America/Los_Angeles))#5342], functions=[sum(prediction#3526), count(1)], output=[date#5336, pct#5337])\n",
      "+- Exchange hashpartitioning(from_unixtime(created_utc#3328L, Y-mm-d, Some(America/Los_Angeles))#5342, 200)\n",
      "   +- *(7) HashAggregate(keys=[from_unixtime(created_utc#3328L, Y-mm-d, Some(America/Los_Angeles)) AS from_unixtime(created_utc#3328L, Y-mm-d, Some(America/Los_Angeles))#5342], functions=[partial_sum(prediction#3526), partial_count(1)], output=[from_unixtime(created_utc#3328L, Y-mm-d, Some(America/Los_Angeles))#5342, sum#5345, count#5346L])\n",
      "      +- *(7) Project [created_utc#3328L, prediction#3526]\n",
      "         +- *(7) SortMergeJoin [id#3332], [id#3495], Inner\n",
      "            :- *(2) Sort [id#3332 ASC NULLS FIRST], false, 0\n",
      "            :  +- Exchange hashpartitioning(id#3332, 200)\n",
      "            :     +- *(1) Project [created_utc#3328L, id#3332]\n",
      "            :        +- *(1) Filter isnotnull(id#3332)\n",
      "            :           +- *(1) FileScan json [created_utc#3328L,id#3332] Batched: false, Format: JSON, Location: InMemoryFileIndex[file:/Users/nabeelnauman/Documents/CS143/Project2/comments-minimal.json.bz2], PartitionFilters: [], PushedFilters: [IsNotNull(id)], ReadSchema: struct<created_utc:bigint,id:string>\n",
      "            +- *(6) Sort [id#3495 ASC NULLS FIRST], false, 0\n",
      "               +- Exchange hashpartitioning(id#3495, 200)\n",
      "                  +- *(5) Project [id#3332 AS id#3495, UDF(UDF(UDF(pythonUDF0#5347))) AS prediction#3526]\n",
      "                     +- BatchEvalPython [<lambda>(sanitize(body#3322))], [body#3322, id#3332, pythonUDF0#5347]\n",
      "                        +- *(4) Project [body#3322, id#3332]\n",
      "                           +- *(4) BroadcastHashJoin [link_id#3334], [concat(t3_, id#3393)], Inner, BuildRight\n",
      "                              :- *(4) Project [body#3322, id#3332, link_id#3334]\n",
      "                              :  +- *(4) Filter ((((isnotnull(body#3322) && NOT (body#3322 = /s)) && NOT (body#3322 = &gt)) && isnotnull(link_id#3334)) && isnotnull(id#3332))\n",
      "                              :     +- *(4) FileScan json [body#3322,id#3332,link_id#3334] Batched: false, Format: JSON, Location: InMemoryFileIndex[file:/Users/nabeelnauman/Documents/CS143/Project2/comments-minimal.json.bz2], PartitionFilters: [], PushedFilters: [IsNotNull(body), Not(EqualTo(body,/s)), Not(EqualTo(body,&gt)), IsNotNull(link_id), IsNotNull(id)], ReadSchema: struct<body:string,id:string,link_id:string>\n",
      "                              +- BroadcastExchange HashedRelationBroadcastMode(List(concat(t3_, input[0, string, true])))\n",
      "                                 +- *(3) FileScan json [id#3393] Batched: false, Format: JSON, Location: InMemoryFileIndex[file:/Users/nabeelnauman/Documents/CS143/Project2/submissions.json.bz2], PartitionFilters: [], PushedFilters: [], ReadSchema: struct<id:string>\n"
     ]
    }
   ],
   "source": [
    "posDays = sqlContext.sql(\"SELECT FROM_UNIXTIME(created_utc, 'Y-mm-d') AS date, SUM(prediction) / COUNT(prediction) as pct FROM PosResultWComment GROUP BY date\").explain(True)"
   ]
  },
  {
   "cell_type": "code",
   "execution_count": null,
   "metadata": {},
   "outputs": [],
   "source": []
  },
  {
   "cell_type": "code",
   "execution_count": 60,
   "metadata": {},
   "outputs": [],
   "source": []
  },
  {
   "cell_type": "code",
   "execution_count": null,
   "metadata": {},
   "outputs": [],
   "source": []
  },
  {
   "cell_type": "code",
   "execution_count": null,
   "metadata": {
    "collapsed": true
   },
   "outputs": [],
   "source": []
  },
  {
   "cell_type": "code",
   "execution_count": null,
   "metadata": {
    "collapsed": true
   },
   "outputs": [],
   "source": []
  },
  {
   "cell_type": "code",
   "execution_count": null,
   "metadata": {
    "collapsed": true
   },
   "outputs": [],
   "source": []
  },
  {
   "cell_type": "code",
   "execution_count": null,
   "metadata": {
    "collapsed": true
   },
   "outputs": [],
   "source": []
  },
  {
   "cell_type": "code",
   "execution_count": null,
   "metadata": {
    "collapsed": true
   },
   "outputs": [],
   "source": []
  }
 ],
 "metadata": {
  "hide_input": false,
  "kernelspec": {
   "display_name": "Python 3",
   "language": "python",
   "name": "python3"
  },
  "language_info": {
   "codemirror_mode": {
    "name": "ipython",
    "version": 3
   },
   "file_extension": ".py",
   "mimetype": "text/x-python",
   "name": "python",
   "nbconvert_exporter": "python",
   "pygments_lexer": "ipython3",
   "version": "3.6.3"
  },
  "varInspector": {
   "cols": {
    "lenName": 16,
    "lenType": 16,
    "lenVar": 40
   },
   "kernels_config": {
    "python": {
     "delete_cmd_postfix": "",
     "delete_cmd_prefix": "del ",
     "library": "var_list.py",
     "varRefreshCmd": "print(var_dic_list())"
    },
    "r": {
     "delete_cmd_postfix": ") ",
     "delete_cmd_prefix": "rm(",
     "library": "var_list.r",
     "varRefreshCmd": "cat(var_dic_list()) "
    }
   },
   "types_to_exclude": [
    "module",
    "function",
    "builtin_function_or_method",
    "instance",
    "_Feature"
   ],
   "window_display": false
  }
 },
 "nbformat": 4,
 "nbformat_minor": 2
}
